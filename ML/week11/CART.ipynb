{
 "cells": [
  {
   "cell_type": "code",
   "execution_count": 1,
   "id": "6b8ef89e",
   "metadata": {},
   "outputs": [],
   "source": [
    "import pandas as pd\n",
    "import numpy as np\n",
    "import math"
   ]
  },
  {
   "cell_type": "code",
   "execution_count": 2,
   "id": "a704a77f",
   "metadata": {},
   "outputs": [],
   "source": [
    "def split_data(data, feature, value):\n",
    "    left_data = data[data[feature] == value]\n",
    "    right_data = data[data[feature] != value]\n",
    "    return left_data, right_data\n"
   ]
  },
  {
   "cell_type": "code",
   "execution_count": 3,
   "id": "f303c882",
   "metadata": {},
   "outputs": [],
   "source": [
    "def calculate_gini(data):\n",
    "    total_samples = len(data)\n",
    "    if total_samples == 0:\n",
    "        return 0.0\n",
    "    \n",
    "    target_counts = data['Decision'].value_counts()\n",
    "    gini = 1.0\n",
    "    for target in target_counts.index:\n",
    "        p = target_counts[target] / total_samples\n",
    "        gini -= p ** 2\n",
    "    \n",
    "    return gini\n",
    "\n"
   ]
  },
  {
   "cell_type": "code",
   "execution_count": 4,
   "id": "4666fea8",
   "metadata": {},
   "outputs": [],
   "source": [
    "\n",
    "def find_best_split(data):\n",
    "    best_gini = 1.0\n",
    "    best_feature = None\n",
    "    best_value = None\n",
    "\n",
    "    for feature in data.columns[:-1]: \n",
    "        values = data[feature].unique()\n",
    "        for value in values:\n",
    "            left_data, right_data = split_data(data, feature, value)\n",
    "            if len(left_data) == 0 or len(right_data) == 0:\n",
    "                continue\n",
    "            weighted_gini = (len(left_data) / len(data)) * calculate_gini(left_data) + (len(right_data) / len(data)) * calculate_gini(right_data)\n",
    "            if weighted_gini < best_gini:\n",
    "                best_gini = weighted_gini\n",
    "                best_feature = feature\n",
    "                best_value = value\n",
    "    \n",
    "    return best_feature, best_value\n"
   ]
  },
  {
   "cell_type": "code",
   "execution_count": 5,
   "id": "024be260",
   "metadata": {},
   "outputs": [],
   "source": [
    "\n",
    "def build_cart_tree(data, depth=0, max_depth=100):\n",
    "    if depth == max_depth or data['Decision'].nunique() == 1:\n",
    "        return data['Decision'].mode().iloc[0]\n",
    "\n",
    "    best_feature, best_value = find_best_split(data)\n",
    "    if best_feature is None:\n",
    "        return data['Decision'].mode().iloc[0]\n",
    "\n",
    "    left_data, right_data = split_data(data, best_feature, best_value)\n",
    "\n",
    "    left_subtree = build_cart_tree(left_data, depth+1, max_depth)\n",
    "    right_subtree = build_cart_tree(right_data, depth+1, max_depth)\n",
    "\n",
    "    return {'feature': best_feature, 'value': best_value, 'left': left_subtree, 'right': right_subtree}\n",
    "\n",
    "# Build the CART tree"
   ]
  },
  {
   "cell_type": "code",
   "execution_count": 6,
   "id": "a8d8b6dd",
   "metadata": {},
   "outputs": [],
   "source": [
    "\n",
    "data = pd.read_csv('../datasets/tree.csv').drop(\"Day\", axis = 1)\n",
    "data[\"Temp\"] = pd.cut(x=data[\"Temp\"], bins = [0,70,80,100], labels=[\"Cool\", \"Mild\",\"Hot\"])\n",
    "data[\"Humidity\"] = pd.cut(x=data[\"Humidity\"], bins = [0,70,80,100], labels=[\"Low\", \"Normal\",\"High\"])\n",
    "cart_tree = build_cart_tree(data, max_depth=3)\n",
    "\n"
   ]
  },
  {
   "cell_type": "code",
   "execution_count": 7,
   "id": "f58c9574",
   "metadata": {},
   "outputs": [
    {
     "name": "stdout",
     "output_type": "stream",
     "text": [
      "Predicted class: Yes\n"
     ]
    }
   ],
   "source": [
    "def classify(instance, tree):\n",
    "    if isinstance(tree, str):\n",
    "        return tree\n",
    "    feature, value = tree['feature'], tree['value']\n",
    "    if instance[feature] == value:\n",
    "        return classify(instance, tree['left'])\n",
    "    else:\n",
    "        return classify(instance, tree['right'])\n",
    "\n",
    "# Example usage for classifying a new instance\n",
    "new_instance = {'Outlook': 'Sunny', 'Temp': 'Low', 'Humidity': 'Low', 'Wind': 'Weak'}\n",
    "predicted_class = classify(new_instance, cart_tree)\n",
    "print(\"Predicted class:\", predicted_class)"
   ]
  },
  {
   "cell_type": "code",
   "execution_count": 8,
   "id": "1d3fb3f8",
   "metadata": {},
   "outputs": [],
   "source": [
    "def print_tree(tree, indent=\"\"):\n",
    "    if isinstance(tree, dict):\n",
    "        feature = tree['feature']\n",
    "        print(indent + f\"Feature: {feature}\")\n",
    "        subtree = tree['left']\n",
    "        value = tree[\"value\"]\n",
    "        print(indent + f\" Left Value: {value}\")\n",
    "        print_tree(subtree, indent + \"    \")\n",
    "        subtree = tree['right']\n",
    "        value = tree[\"value\"]\n",
    "        print(indent + f\" Right Value: {value}\")\n",
    "        print_tree(subtree, indent + \"    \")\n",
    "    else:\n",
    "        print(indent + f\"Class: {tree}\")\n"
   ]
  },
  {
   "cell_type": "code",
   "execution_count": 9,
   "id": "9ceed893",
   "metadata": {},
   "outputs": [
    {
     "name": "stdout",
     "output_type": "stream",
     "text": [
      "{'feature': 'Outlook', 'value': 'Overcast', 'left': 'Yes', 'right': {'feature': 'Temp', 'value': 'Cool', 'left': {'feature': 'Wind', 'value': 'Weak', 'left': 'Yes', 'right': 'No'}, 'right': {'feature': 'Humidity', 'value': 'High', 'left': 'No', 'right': 'Yes'}}}\n"
     ]
    }
   ],
   "source": [
    "print(cart_tree)"
   ]
  },
  {
   "cell_type": "code",
   "execution_count": 10,
   "id": "8715f4c9",
   "metadata": {},
   "outputs": [
    {
     "name": "stdout",
     "output_type": "stream",
     "text": [
      "Feature: Outlook\n",
      " Left Value: Overcast\n",
      "    Class: Yes\n",
      " Right Value: Overcast\n",
      "    Feature: Temp\n",
      "     Left Value: Cool\n",
      "        Feature: Wind\n",
      "         Left Value: Weak\n",
      "            Class: Yes\n",
      "         Right Value: Weak\n",
      "            Class: No\n",
      "     Right Value: Cool\n",
      "        Feature: Humidity\n",
      "         Left Value: High\n",
      "            Class: No\n",
      "         Right Value: High\n",
      "            Class: Yes\n"
     ]
    }
   ],
   "source": [
    "print_tree(cart_tree)"
   ]
  },
  {
   "cell_type": "code",
   "execution_count": null,
   "id": "f89e3484",
   "metadata": {},
   "outputs": [],
   "source": []
  },
  {
   "cell_type": "code",
   "execution_count": null,
   "id": "7f5ca38d",
   "metadata": {},
   "outputs": [],
   "source": []
  },
  {
   "cell_type": "code",
   "execution_count": null,
   "id": "ef4671e3",
   "metadata": {},
   "outputs": [],
   "source": []
  }
 ],
 "metadata": {
  "kernelspec": {
   "display_name": "Python 3 (ipykernel)",
   "language": "python",
   "name": "python3"
  },
  "language_info": {
   "codemirror_mode": {
    "name": "ipython",
    "version": 3
   },
   "file_extension": ".py",
   "mimetype": "text/x-python",
   "name": "python",
   "nbconvert_exporter": "python",
   "pygments_lexer": "ipython3",
   "version": "3.10.12"
  }
 },
 "nbformat": 4,
 "nbformat_minor": 5
}
