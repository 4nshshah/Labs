{
 "cells": [
  {
   "cell_type": "code",
   "execution_count": 187,
   "id": "62bfeb00",
   "metadata": {},
   "outputs": [],
   "source": [
    "import pandas as pd\n",
    "import numpy as np\n",
    "import math"
   ]
  },
  {
   "cell_type": "code",
   "execution_count": 188,
   "id": "56ac647e",
   "metadata": {},
   "outputs": [],
   "source": [
    "def entropy(data):\n",
    "    target_counts = data['Decision'].value_counts()\n",
    "    total_samples = len(data)\n",
    "    entropy = 0\n",
    "    for target in target_counts.index:\n",
    "        p = target_counts[target] / total_samples\n",
    "        entropy -= p * math.log2(p)\n",
    "    return entropy"
   ]
  },
  {
   "cell_type": "code",
   "execution_count": 189,
   "id": "52be9bac",
   "metadata": {},
   "outputs": [],
   "source": [
    "def gain_ratio(data, feature):\n",
    "    unique_values = data[feature].unique()\n",
    "    total_entropy = entropy(data)\n",
    "    split_entropy = 0\n",
    "    intrinsic_info = 0\n",
    "\n",
    "    for value in unique_values:\n",
    "        subset = data[data[feature] == value]\n",
    "        prob = len(subset) / len(data)\n",
    "        split_entropy += prob * entropy(subset)\n",
    "        intrinsic_info -= prob * math.log2(prob)\n",
    "\n",
    "    if intrinsic_info == 0:\n",
    "        return 0 \n",
    "\n",
    "    return (total_entropy - split_entropy) / intrinsic_info"
   ]
  },
  {
   "cell_type": "code",
   "execution_count": 190,
   "id": "c009433f",
   "metadata": {},
   "outputs": [],
   "source": [
    "def find_best_split(data):\n",
    "    best_gain_ratio = 0\n",
    "    best_feature = None\n",
    "\n",
    "    for feature in data.columns[:-1]:\n",
    "        gr = gain_ratio(data, feature)\n",
    "        if gr > best_gain_ratio:\n",
    "            best_gain_ratio = gr\n",
    "            best_feature = feature\n",
    "\n",
    "    return best_feature\n"
   ]
  },
  {
   "cell_type": "code",
   "execution_count": 191,
   "id": "a907372a",
   "metadata": {},
   "outputs": [],
   "source": [
    "def build_c45_tree(data, depth=0, max_depth=3):\n",
    "    if depth == max_depth or data['Decision'].nunique() == 1:\n",
    "        return data['Decision'].mode().iloc[0]\n",
    "\n",
    "    best_feature = find_best_split(data)\n",
    "    if best_feature is None:\n",
    "        return data['Decision'].mode().iloc[0]\n",
    "\n",
    "    tree = {'feature': best_feature, 'subtrees': {}}\n",
    "    unique_values = data[best_feature].unique()\n",
    "    for value in unique_values:\n",
    "        subset = data[data[best_feature] == value]\n",
    "        tree['subtrees'][value] = build_c45_tree(subset, depth+1, max_depth)\n",
    "\n",
    "    return tree"
   ]
  },
  {
   "cell_type": "code",
   "execution_count": 192,
   "id": "fa486fc5",
   "metadata": {},
   "outputs": [],
   "source": [
    "data = pd.read_csv(\"../datasets/tree.csv\").drop(\"Day\", axis = 1)\n",
    "data[\"Temp\"] = pd.cut(x=data[\"Temp\"], bins = [0,70,80,100], labels=[\"Cool\", \"Mild\",\"Hot\"])\n",
    "data[\"Humidity\"] = pd.cut(x=data[\"Humidity\"], bins = [0,70,80,100], labels=[\"Low\", \"Normal\",\"High\"])\n",
    "\n",
    "c45_tree = build_c45_tree(data, max_depth=3)"
   ]
  },
  {
   "cell_type": "code",
   "execution_count": 193,
   "id": "338d4810",
   "metadata": {},
   "outputs": [],
   "source": [
    "def classify(instance, tree):\n",
    "    if isinstance(tree, str):\n",
    "        return tree\n",
    "    feature = tree['feature']\n",
    "    value = instance[feature]\n",
    "    if value not in tree['subtrees']:\n",
    "        return data['PlayTennis'].mode().iloc[0]\n",
    "    return classify(instance, tree['subtrees'][value])"
   ]
  },
  {
   "cell_type": "code",
   "execution_count": 194,
   "id": "7d2e09f1",
   "metadata": {},
   "outputs": [
    {
     "name": "stdout",
     "output_type": "stream",
     "text": [
      "Predicted class: Yes\n"
     ]
    }
   ],
   "source": [
    "new_instance = {'Outlook': 'Sunny', 'Temperature': 'Mild', 'Humidity': 'Low', 'Wind': 'Weak'}\n",
    "predicted_class = classify(new_instance, c45_tree)\n",
    "print(\"Predicted class:\", predicted_class)"
   ]
  },
  {
   "cell_type": "code",
   "execution_count": 195,
   "id": "7ed8d930",
   "metadata": {},
   "outputs": [],
   "source": [
    "def print_tree(tree, indent=\"\"):\n",
    "    if isinstance(tree, dict):\n",
    "        feature = tree['feature']\n",
    "        print(indent + f\"Feature: {feature}\")\n",
    "        for value, subtree in tree['subtrees'].items():\n",
    "            print(indent + f\"  Value: {value}\")\n",
    "            print_tree(subtree, indent + \"    \")\n",
    "    else:\n",
    "        print(indent + f\"Class: {tree}\")"
   ]
  },
  {
   "cell_type": "code",
   "execution_count": 196,
   "id": "01550cda",
   "metadata": {},
   "outputs": [
    {
     "name": "stdout",
     "output_type": "stream",
     "text": [
      "Feature: Outlook\n",
      "  Value: Sunny\n",
      "    Feature: Humidity\n",
      "      Value: High\n",
      "        Class: No\n",
      "      Value: Low\n",
      "        Class: Yes\n",
      "  Value: Overcast\n",
      "    Class: Yes\n",
      "  Value: Rain\n",
      "    Feature: Wind\n",
      "      Value: Weak\n",
      "        Class: Yes\n",
      "      Value: Strong\n",
      "        Class: No\n"
     ]
    }
   ],
   "source": [
    "print_tree(c45_tree)"
   ]
  }
 ],
 "metadata": {
  "kernelspec": {
   "display_name": "Python 3 (ipykernel)",
   "language": "python",
   "name": "python3"
  },
  "language_info": {
   "codemirror_mode": {
    "name": "ipython",
    "version": 3
   },
   "file_extension": ".py",
   "mimetype": "text/x-python",
   "name": "python",
   "nbconvert_exporter": "python",
   "pygments_lexer": "ipython3",
   "version": "3.10.12"
  }
 },
 "nbformat": 4,
 "nbformat_minor": 5
}
