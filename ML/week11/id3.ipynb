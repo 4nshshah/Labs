{
 "cells": [
  {
   "cell_type": "code",
   "execution_count": 19,
   "id": "3304dd57",
   "metadata": {},
   "outputs": [],
   "source": [
    "import pandas as pd\n",
    "import math"
   ]
  },
  {
   "cell_type": "code",
   "execution_count": 20,
   "id": "948524ff",
   "metadata": {},
   "outputs": [],
   "source": [
    "def entropy(data):\n",
    "    target_counts = data['Decision'].value_counts()\n",
    "    total_samples = len(data)\n",
    "    entropy = 0\n",
    "    for target in target_counts.index:\n",
    "        p = target_counts[target] / total_samples\n",
    "        entropy -= p * math.log2(p)\n",
    "    return entropy"
   ]
  },
  {
   "cell_type": "code",
   "execution_count": 21,
   "id": "6850b0af",
   "metadata": {},
   "outputs": [],
   "source": [
    "def information_gain(data, feature):\n",
    "    unique_values = data[feature].unique()\n",
    "    total_entropy = entropy(data)\n",
    "    split_entropy = 0\n",
    "\n",
    "    for value in unique_values:\n",
    "        subset = data[data[feature] == value]\n",
    "        prob = len(subset) / len(data)\n",
    "        split_entropy += prob * entropy(subset)\n",
    "\n",
    "    return total_entropy - split_entropy"
   ]
  },
  {
   "cell_type": "code",
   "execution_count": 22,
   "id": "fbc309df",
   "metadata": {},
   "outputs": [],
   "source": [
    "def find_best_split(data):\n",
    "    best_information_gain = 0\n",
    "    best_feature = None\n",
    "\n",
    "    for feature in data.columns[:-1]:  # Exclude the target column\n",
    "        ig = information_gain(data, feature)\n",
    "        if ig > best_information_gain:\n",
    "            best_information_gain = ig\n",
    "            best_feature = feature\n",
    "\n",
    "    return best_feature"
   ]
  },
  {
   "cell_type": "code",
   "execution_count": 23,
   "id": "4e66dc8d",
   "metadata": {},
   "outputs": [],
   "source": [
    "def build_id3_tree(data, depth=0, max_depth=3):\n",
    "    if depth == max_depth or data['Decision'].nunique() == 1:\n",
    "        return data['Decision'].mode().iloc[0]\n",
    "\n",
    "    best_feature = find_best_split(data)\n",
    "    if best_feature is None:\n",
    "        return data['Decision'].mode().iloc[0]\n",
    "\n",
    "    tree = {'feature': best_feature, 'subtrees': {}}\n",
    "    unique_values = data[best_feature].unique()\n",
    "    for value in unique_values:\n",
    "        subset = data[data[best_feature] == value]\n",
    "        tree['subtrees'][value] = build_id3_tree(subset, depth+1, max_depth)\n",
    "\n",
    "    return tree"
   ]
  },
  {
   "cell_type": "code",
   "execution_count": 24,
   "id": "55865c04",
   "metadata": {},
   "outputs": [],
   "source": [
    "def classify(instance, tree):\n",
    "    if isinstance(tree, str):\n",
    "        return tree\n",
    "    feature = tree['feature']\n",
    "    value = instance[feature]\n",
    "    if value not in tree['subtrees']:\n",
    "        return data['PlayTennis'].mode().iloc[0]\n",
    "    return classify(instance, tree['subtrees'][value])"
   ]
  },
  {
   "cell_type": "code",
   "execution_count": 25,
   "id": "ca1f9e19",
   "metadata": {},
   "outputs": [],
   "source": [
    "def id3(train_data_m, label):\n",
    "    train_data = train_data_m.copy() #getting a copy of the dataset\n",
    "    tree = {} #tree which will be updated\n",
    "    class_list = train_data[label].unique() #getting unqiue classes of the label\n",
    "    make_tree(tree, None, train_data, label, class_list) #start calling recursion\n",
    "    return tree"
   ]
  },
  {
   "cell_type": "code",
   "execution_count": 26,
   "id": "34c16b7d",
   "metadata": {},
   "outputs": [],
   "source": [
    "data = pd.read_csv(\"../datasets/tree.csv\").drop(\"Day\", axis = 1)"
   ]
  },
  {
   "cell_type": "code",
   "execution_count": 27,
   "id": "08dee4bc",
   "metadata": {},
   "outputs": [],
   "source": [
    "data[\"Temp\"] = pd.cut(x=data[\"Temp\"], bins = [0,70,80,100], labels=[\"Cool\", \"Mild\",\"Hot\"])\n",
    "data[\"Humidity\"] = pd.cut(x=data[\"Humidity\"], bins = [0,70,80,100], labels=[\"Low\", \"Normal\",\"High\"])"
   ]
  },
  {
   "cell_type": "code",
   "execution_count": 28,
   "id": "4cac6090",
   "metadata": {},
   "outputs": [],
   "source": [
    "id3_tree = build_id3_tree(data, max_depth=3)"
   ]
  },
  {
   "cell_type": "code",
   "execution_count": 29,
   "id": "fb46576a",
   "metadata": {},
   "outputs": [
    {
     "name": "stdout",
     "output_type": "stream",
     "text": [
      "Predicted class: No\n"
     ]
    }
   ],
   "source": [
    "new_instance = {'Outlook': 'Sunny', 'Temperature': 'Mild', 'Humidity': 'High', 'Wind': 'Weak'}\n",
    "predicted_class = classify(new_instance, id3_tree)\n",
    "print(\"Predicted class:\", predicted_class)"
   ]
  },
  {
   "cell_type": "code",
   "execution_count": 30,
   "id": "9d9e4faa",
   "metadata": {},
   "outputs": [],
   "source": [
    "def print_tree(tree, indent=\"\"):\n",
    "    if isinstance(tree, dict):\n",
    "        feature = tree['feature']\n",
    "        print(indent + f\"Feature: {feature}\")\n",
    "        for value, subtree in tree['subtrees'].items():\n",
    "            print(indent + f\"  Value: {value}\")\n",
    "            print_tree(subtree, indent + \"    \")\n",
    "    else:\n",
    "        print(indent + f\"Class: {tree}\")"
   ]
  },
  {
   "cell_type": "code",
   "execution_count": 31,
   "id": "60e2d315",
   "metadata": {},
   "outputs": [
    {
     "name": "stdout",
     "output_type": "stream",
     "text": [
      "Feature: Outlook\n",
      "  Value: Sunny\n",
      "    Feature: Humidity\n",
      "      Value: High\n",
      "        Class: No\n",
      "      Value: Low\n",
      "        Class: Yes\n",
      "  Value: Overcast\n",
      "    Class: Yes\n",
      "  Value: Rain\n",
      "    Feature: Wind\n",
      "      Value: Weak\n",
      "        Class: Yes\n",
      "      Value: Strong\n",
      "        Class: No\n"
     ]
    }
   ],
   "source": [
    "print_tree(id3_tree)"
   ]
  },
  {
   "cell_type": "code",
   "execution_count": null,
   "id": "583154f8",
   "metadata": {},
   "outputs": [],
   "source": []
  }
 ],
 "metadata": {
  "kernelspec": {
   "display_name": "Python 3 (ipykernel)",
   "language": "python",
   "name": "python3"
  },
  "language_info": {
   "codemirror_mode": {
    "name": "ipython",
    "version": 3
   },
   "file_extension": ".py",
   "mimetype": "text/x-python",
   "name": "python",
   "nbconvert_exporter": "python",
   "pygments_lexer": "ipython3",
   "version": "3.10.12"
  }
 },
 "nbformat": 4,
 "nbformat_minor": 5
}
