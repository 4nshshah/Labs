{
 "cells": [
  {
   "cell_type": "code",
   "execution_count": 4,
   "id": "6574db03",
   "metadata": {},
   "outputs": [],
   "source": [
    "import numpy as np\n",
    "import pandas as pd\n",
    "import matplotlib.pyplot as plt"
   ]
  },
  {
   "cell_type": "code",
   "execution_count": 5,
   "id": "689c3ae1",
   "metadata": {},
   "outputs": [],
   "source": [
    "data = pd.read_csv(\"../week4/gold2.csv\")"
   ]
  },
  {
   "cell_type": "code",
   "execution_count": 6,
   "id": "f316a335",
   "metadata": {},
   "outputs": [],
   "source": [
    "import random\n",
    "data = data.rename({'Unnamed: 0':'years', '0':'gold'}, axis =1)\n",
    "# data['new'] = np.random.randint(2, size=58)\n",
    "data['new'] = data['years']%2==0\n"
   ]
  },
  {
   "cell_type": "code",
   "execution_count": 8,
   "id": "81022b1f",
   "metadata": {},
   "outputs": [],
   "source": [
    "years = data['years']\n",
    "gold = data['new']\n"
   ]
  },
  {
   "cell_type": "code",
   "execution_count": 9,
   "id": "c59df0b0",
   "metadata": {},
   "outputs": [],
   "source": [
    "from sklearn.linear_model import LogisticRegression\n",
    "from sklearn.model_selection import train_test_split as tts"
   ]
  },
  {
   "cell_type": "code",
   "execution_count": 10,
   "id": "eb4ba4cf",
   "metadata": {},
   "outputs": [],
   "source": [
    "xtrain, xtest,ytrain, ytest = tts(years, gold, random_state=42)\n",
    "model = LogisticRegression()\n",
    "model.fit(np.array(xtrain).reshape(-1,1), ytrain)\n",
    "prediction = model.predict(np.array(xtest).reshape(-1,1))"
   ]
  },
  {
   "cell_type": "code",
   "execution_count": 11,
   "id": "32db096b",
   "metadata": {
    "scrolled": true
   },
   "outputs": [
    {
     "data": {
      "image/png": "[encoded data removed]",
      "text/plain": [
       "<Figure size 432x288 with 1 Axes>"
      ]
     },
     "metadata": {
      "needs_background": "light"
     },
     "output_type": "display_data"
    }
   ],
   "source": [
    "plt.scatter(xtest, ytest, label = 'actual')\n",
    "plt.plot(xtest, prediction, color = 'red', label = 'predicted')\n",
    "plt.legend()\n",
    "plt.xlabel(\"Years\")\n",
    "plt.ylabel(\"Rates\")\n",
    "plt.show()"
   ]
  },
  {
   "cell_type": "markdown",
   "id": "7324b75a",
   "metadata": {},
   "source": [
    "## Underfitting"
   ]
  },
  {
   "cell_type": "code",
   "execution_count": 17,
   "id": "2274e79d",
   "metadata": {},
   "outputs": [],
   "source": [
    "from sklearn import metrics"
   ]
  },
  {
   "cell_type": "code",
   "execution_count": 18,
   "id": "71b57f43",
   "metadata": {},
   "outputs": [
    {
     "data": {
      "image/png": "[encoded data removed]",
      "text/plain": [
       "<Figure size 432x288 with 2 Axes>"
      ]
     },
     "metadata": {
      "needs_background": "light"
     },
     "output_type": "display_data"
    }
   ],
   "source": [
    "cm = confusion_matrix(ytest, prediction)\n",
    "cm_display = metrics.ConfusionMatrixDisplay(confusion_matrix = cm, display_labels = [False, True])\n",
    "\n",
    "cm_display.plot()\n",
    "plt.show() "
   ]
  },
  {
   "cell_type": "code",
   "execution_count": 20,
   "id": "01635bcf",
   "metadata": {},
   "outputs": [
    {
     "name": "stdout",
     "output_type": "stream",
     "text": [
      "{'Accuracy': 0.4, 'Precision': 0.4, 'Sensitivity_recall': 1.0, 'Specificity': 0.0, 'F1_score': 0.5714285714285715}\n"
     ]
    }
   ],
   "source": [
    "Accuracy = metrics.accuracy_score(ytest, prediction)\n",
    "Precision = metrics.precision_score(ytest, prediction) \n",
    "Sensitivity_recall = metrics.recall_score(ytest, prediction)\n",
    "Specificity = metrics.recall_score(ytest, prediction, pos_label=0)\n",
    "F1_score = metrics.f1_score(ytest, prediction)\n",
    "print({\"Accuracy\":Accuracy,\"Precision\":Precision,\"Sensitivity_recall\":Sensitivity_recall,\"Specificity\":Specificity,\"F1_score\":F1_score}) "
   ]
  },
  {
   "cell_type": "code",
   "execution_count": null,
   "id": "8096036a",
   "metadata": {},
   "outputs": [],
   "source": []
  }
 ],
 "metadata": {
  "kernelspec": {
   "display_name": "Python 3 (ipykernel)",
   "language": "python",
   "name": "python3"
  },
  "language_info": {
   "codemirror_mode": {
    "name": "ipython",
    "version": 3
   },
   "file_extension": ".py",
   "mimetype": "text/x-python",
   "name": "python",
   "nbconvert_exporter": "python",
   "pygments_lexer": "ipython3",
   "version": "3.10.12"
  }
 },
 "nbformat": 4,
 "nbformat_minor": 5
}
