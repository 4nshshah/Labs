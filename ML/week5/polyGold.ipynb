{
 "cells": [
  {
   "cell_type": "code",
   "execution_count": 260,
   "id": "6393da18",
   "metadata": {},
   "outputs": [],
   "source": [
    "import pandas as pd\n",
    "import numpy as np\n",
    "import matplotlib.pyplot as plt\n"
   ]
  },
  {
   "cell_type": "code",
   "execution_count": 261,
   "id": "245f34ef",
   "metadata": {},
   "outputs": [],
   "source": [
    "def rmse(y,pred):\n",
    "    return np.sqrt(np.mean(np.square(y-pred)))"
   ]
  },
  {
   "cell_type": "code",
   "execution_count": 262,
   "id": "2a554d25",
   "metadata": {},
   "outputs": [],
   "source": [
    "def getModelScore(x,y,degree):\n",
    "    poly = PolynomialFeatures(degree = degree)\n",
    "    xPoly = poly.fit_transform(np.array(x).reshape(-1,1))\n",
    "    # xtrain, xtest,ytrain, ytest = tts(xPoly, gold)\n",
    "    model = LinearRegression()\n",
    "    model.fit(xPoly, y)\n",
    "    prediction = model.predict(xPoly)\n",
    "    return rmse(prediction, y)"
   ]
  },
  {
   "cell_type": "code",
   "execution_count": 263,
   "id": "1bcfd4fc",
   "metadata": {},
   "outputs": [],
   "source": [
    "data = pd.read_csv(\"../week4/gold2.csv\")"
   ]
  },
  {
   "cell_type": "code",
   "execution_count": 264,
   "id": "83ac68d2",
   "metadata": {},
   "outputs": [],
   "source": [
    "data = data.rename({'Unnamed: 0':'years', '0':'gold'}, axis =1)"
   ]
  },
  {
   "cell_type": "code",
   "execution_count": 265,
   "id": "1f501fe7",
   "metadata": {},
   "outputs": [],
   "source": [
    "years = data['years']\n",
    "gold = data['gold']"
   ]
  },
  {
   "cell_type": "code",
   "execution_count": 266,
   "id": "12394232",
   "metadata": {},
   "outputs": [],
   "source": [
    "from sklearn.preprocessing import PolynomialFeatures\n",
    "from sklearn.linear_model import LinearRegression\n",
    "from sklearn.model_selection import train_test_split as tts"
   ]
  },
  {
   "cell_type": "code",
   "execution_count": 267,
   "id": "5d67de45",
   "metadata": {},
   "outputs": [],
   "source": [
    "errors =[]\n",
    "for degree in range(1,20):\n",
    "    errors.append(getModelScore(years, gold, degree))"
   ]
  },
  {
   "cell_type": "code",
   "execution_count": 268,
   "id": "642df162",
   "metadata": {},
   "outputs": [
    {
     "data": {
      "text/plain": [
       "[<matplotlib.lines.Line2D at 0x7fcef27c1990>]"
      ]
     },
     "execution_count": 268,
     "metadata": {},
     "output_type": "execute_result"
    },
    {
     "data": {
      "image/png": "[encoded data removed]",
      "text/plain": [
       "<Figure size 432x288 with 1 Axes>"
      ]
     },
     "metadata": {
      "needs_background": "light"
     },
     "output_type": "display_data"
    }
   ],
   "source": [
    "plt.plot(errors)"
   ]
  },
  {
   "cell_type": "markdown",
   "id": "dfaea01d",
   "metadata": {},
   "source": [
    "### Degree 2 onwards has the lowest RMSE score"
   ]
  },
  {
   "cell_type": "code",
   "execution_count": 269,
   "id": "e88753dd",
   "metadata": {},
   "outputs": [],
   "source": [
    "degree = 3\n",
    "poly = PolynomialFeatures(degree = degree)\n",
    "xPoly = poly.fit_transform(np.array(years).reshape(-1,1))\n",
    "# xtrain, xtest,ytrain, ytest = tts(xPoly, gold)\n",
    "model = LinearRegression()\n",
    "model.fit(xPoly, gold)\n",
    "prediction = model.predict(xPoly)"
   ]
  },
  {
   "cell_type": "code",
   "execution_count": 270,
   "id": "45a9e679",
   "metadata": {},
   "outputs": [
    {
     "data": {
      "text/plain": [
       "<matplotlib.legend.Legend at 0x7fcef2630f70>"
      ]
     },
     "execution_count": 270,
     "metadata": {},
     "output_type": "execute_result"
    },
    {
     "data": {
      "image/png": "[encoded data removed]",
      "text/plain": [
       "<Figure size 432x288 with 1 Axes>"
      ]
     },
     "metadata": {
      "needs_background": "light"
     },
     "output_type": "display_data"
    }
   ],
   "source": [
    "plt.scatter(years, gold, label = \"Actual\", marker = 'o')\n",
    "plt.plot(years, prediction, color = 'red', label = \"Predicted\", lw = '2')\n",
    "plt.xlabel(\"Years\")\n",
    "plt.ylabel(\"Gold Rate\")\n",
    "plt.legend()"
   ]
  },
  {
   "cell_type": "code",
   "execution_count": null,
   "id": "bf0878bc",
   "metadata": {},
   "outputs": [],
   "source": []
  },
  {
   "cell_type": "code",
   "execution_count": null,
   "id": "270a5528",
   "metadata": {},
   "outputs": [],
   "source": []
  }
 ],
 "metadata": {
  "kernelspec": {
   "display_name": "Python 3 (ipykernel)",
   "language": "python",
   "name": "python3"
  },
  "language_info": {
   "codemirror_mode": {
    "name": "ipython",
    "version": 3
   },
   "file_extension": ".py",
   "mimetype": "text/x-python",
   "name": "python",
   "nbconvert_exporter": "python",
   "pygments_lexer": "ipython3",
   "version": "3.10.12"
  }
 },
 "nbformat": 4,
 "nbformat_minor": 5
}
