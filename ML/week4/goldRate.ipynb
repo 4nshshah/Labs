{
 "cells": [
  {
   "cell_type": "code",
   "execution_count": 2,
   "id": "30eb58a2",
   "metadata": {},
   "outputs": [],
   "source": [
    "import pandas as pd\n",
    "import numpy as np\n",
    "import matplotlib.pyplot as plt"
   ]
  },
  {
   "cell_type": "code",
   "execution_count": 3,
   "id": "ec2c9772",
   "metadata": {},
   "outputs": [],
   "source": [
    "def mse(actual, predicted):\n",
    "    return np.sum(np.square(actual-predicted))/len(actual)"
   ]
  },
  {
   "cell_type": "code",
   "execution_count": 4,
   "id": "88d9ad51",
   "metadata": {},
   "outputs": [],
   "source": [
    "def slopes(X,Y):\n",
    "    xy = np.sum(np.multiply(X, Y))\n",
    "    y = np.sum(Y)\n",
    "    x =np.sum(X)\n",
    "    x2 = np.sum(np.multiply(X, X))\n",
    "    return xy,x,y,x2"
   ]
  },
  {
   "cell_type": "code",
   "execution_count": 5,
   "id": "530ce84f",
   "metadata": {},
   "outputs": [],
   "source": [
    "def getB(XY,X,Y,X2,N):\n",
    "    return ((N*XY) -(X*Y))/((N*X2) - (X*X))"
   ]
  },
  {
   "cell_type": "code",
   "execution_count": 6,
   "id": "158a6e46",
   "metadata": {},
   "outputs": [],
   "source": [
    "goldRates = [72,84,103,162,176,184,193,202,179,506,540,432,486,685,937,1330,1800,1645,1800,1970,2130,2140,2570,3130,3140,3200,3466,4334,4140,4598,4680,5160,4725,4045,4234,4400,4300,4990,5600,5850,7000,8400,10800,12500,14500,18500,26400,31050,29600,28006,26343,28623,29667,31438,35220,48651,50045,52950]\n",
    "goldData = {}\n",
    "silverRates = [2715,2720,3105,3570,3955,4015,4794,6066,6755,6463,6646,8040,5489,7124,6335,7346,7345,8560,7615,7900,7215,7875,7695,11770,10675,17405,19520,23625,27255,56900,56290,54030,43070,37825,36990,37825,41400,40600,63435,62572,55100]\n",
    "matching ={}\n",
    "silverData = {}\n",
    "n = len(goldRates)\n",
    "# nTrain = len(xtrain)\n",
    "years = [1965 + i for i in range(n)]\n",
    "for i, rate in enumerate(goldRates):\n",
    "    goldData[1965 + i] = rate\n",
    "\n",
    "    \n",
    "for i,rate in enumerate(silverRates):\n",
    "    matching[1981+i] = goldRates[len(goldRates)-len(silverRates)+i]\n",
    "    silverData[1981+i] = rate\n",
    "\n",
    "\n",
    "goldData = pd.DataFrame.from_dict(goldData, orient = 'index')\n",
    "matching = pd.DataFrame.from_dict(matching, orient = 'index')\n",
    "\n",
    "silverData = pd.DataFrame.from_dict(silverData, orient = 'index')\n",
    "matching.rename(columns={0:\"gold\"}, inplace = True)\n",
    "\n",
    "silverData.rename(columns = {0:\"silver\"}, inplace = True)\n",
    "data = pd.concat([matching, silverData], axis = 1)"
   ]
  },
  {
   "cell_type": "code",
   "execution_count": 7,
   "id": "68ca87b6",
   "metadata": {},
   "outputs": [],
   "source": [
    "data.to_csv(\"gold1.csv\")"
   ]
  },
  {
   "cell_type": "code",
   "execution_count": 217,
   "id": "cd5f2e78",
   "metadata": {},
   "outputs": [
    {
     "data": {
      "text/plain": [
       "58"
      ]
     },
     "execution_count": 217,
     "metadata": {},
     "output_type": "execute_result"
    }
   ],
   "source": [
    "len(goldRates)"
   ]
  },
  {
   "cell_type": "code",
   "execution_count": 218,
   "id": "28cabe6d",
   "metadata": {},
   "outputs": [],
   "source": [
    "from sklearn.model_selection import train_test_split as splitData\n",
    "xtrain, xtest,ytrain, ytest = splitData(years, goldRates, test_size = 0.2)"
   ]
  },
  {
   "cell_type": "code",
   "execution_count": 285,
   "id": "44278dd2",
   "metadata": {
    "scrolled": true
   },
   "outputs": [
    {
     "name": "stdout",
     "output_type": "stream",
     "text": [
      "91661 455277 916523493 182660055\n"
     ]
    }
   ],
   "source": [
    "xy,x,y,x2 = slopes(xtrain, ytrain)\n",
    "print(x,y,xy,x2)"
   ]
  },
  {
   "cell_type": "code",
   "execution_count": 251,
   "id": "326111c0",
   "metadata": {},
   "outputs": [],
   "source": []
  },
  {
   "cell_type": "code",
   "execution_count": 286,
   "id": "2736131c",
   "metadata": {},
   "outputs": [],
   "source": [
    "b = getB(xy,x,y,x2,nTrain)\n",
    "a = (y-(b*x))/nTrain"
   ]
  },
  {
   "cell_type": "code",
   "execution_count": 287,
   "id": "658f2ed3",
   "metadata": {},
   "outputs": [
    {
     "name": "stdout",
     "output_type": "stream",
     "text": [
      "-1360689.2005054448 687.8277590605652\n"
     ]
    }
   ],
   "source": [
    "print(a,b)"
   ]
  },
  {
   "cell_type": "code",
   "execution_count": 232,
   "id": "f82908f0",
   "metadata": {},
   "outputs": [],
   "source": [
    "Fullprediction = []\n",
    "for i in range(1965,2023):\n",
    "    Fullprediction.append(a+b*i)\n",
    "\n",
    "prediction = []\n",
    "for i in xtest:\n",
    "    prediction.append(a+b*i)"
   ]
  },
  {
   "cell_type": "code",
   "execution_count": 266,
   "id": "59934eda",
   "metadata": {},
   "outputs": [
    {
     "name": "stdout",
     "output_type": "stream",
     "text": [
      "46670892.98013028 6831.609838107726\n"
     ]
    }
   ],
   "source": [
    "normalEqErr = mse(np.array(ytest), np.array(prediction))\n",
    "print(normalEqErr, math.sqrt(normalEqErr))"
   ]
  },
  {
   "cell_type": "markdown",
   "id": "bfcd03d3",
   "metadata": {},
   "source": [
    "# Manual Findings\n",
    "\n",
    "### Mean Square Error: 46670892.98013028 \n",
    "### Root Mean Square Error: 6831.609838107726\n"
   ]
  },
  {
   "cell_type": "code",
   "execution_count": 234,
   "id": "180991f8",
   "metadata": {
    "scrolled": true
   },
   "outputs": [
    {
     "name": "stdout",
     "output_type": "stream",
     "text": [
      "Mean Square Error: 46670892.98013028\n",
      "Root Mean Square Eror: 6831.609838107726\n"
     ]
    }
   ],
   "source": [
    "import math\n",
    "print(f\"Mean Square Error: {normalEqErr}\")\n",
    "print(f\"Root Mean Square Eror: {math.sqrt(normalEqErr)}\")"
   ]
  },
  {
   "cell_type": "code",
   "execution_count": 225,
   "id": "4ee0321d",
   "metadata": {},
   "outputs": [
    {
     "data": {
      "text/plain": [
       "LinearRegression()"
      ]
     },
     "execution_count": 225,
     "metadata": {},
     "output_type": "execute_result"
    }
   ],
   "source": [
    "from sklearn.linear_model import LinearRegression\n",
    "model = LinearRegression()\n",
    "model.fit(np.array(xtrain).reshape(-1,1),ytrain)"
   ]
  },
  {
   "cell_type": "code",
   "execution_count": 226,
   "id": "9af0f4df",
   "metadata": {},
   "outputs": [],
   "source": [
    "skPred = model.predict(np.array(years).reshape(-1,1))"
   ]
  },
  {
   "cell_type": "code",
   "execution_count": 227,
   "id": "2c37dd32",
   "metadata": {},
   "outputs": [],
   "source": [
    "testing = model.predict(np.array(xtest).reshape(-1,1))"
   ]
  },
  {
   "cell_type": "code",
   "execution_count": 228,
   "id": "26914a5c",
   "metadata": {},
   "outputs": [
    {
     "name": "stdout",
     "output_type": "stream",
     "text": [
      "46670892.98012935\n",
      "6831.609838107659\n"
     ]
    }
   ],
   "source": [
    "modelmse = mse(np.array(ytest), np.array(testing))\n",
    "print(modelmse)\n",
    "print(math.sqrt(modelmse))"
   ]
  },
  {
   "cell_type": "markdown",
   "id": "3f62e424",
   "metadata": {},
   "source": [
    "# SK Learn Values\n",
    "\n",
    "### Mean Square Error: 46670892.98012935\n",
    "\n",
    "### Root Mean Square Error:6831.609838107659"
   ]
  },
  {
   "cell_type": "code",
   "execution_count": 229,
   "id": "c9c470a9",
   "metadata": {
    "scrolled": false
   },
   "outputs": [
    {
     "data": {
      "image/png": "[encoded data removed]",
      "text/plain": [
       "<Figure size 432x288 with 1 Axes>"
      ]
     },
     "metadata": {
      "needs_background": "light"
     },
     "output_type": "display_data"
    }
   ],
   "source": [
    "fig, ax = plt.subplots()\n",
    "ax.scatter(xtest,ytest, label = \"actual\")\n",
    "ax.plot(xtest, prediction, color = 'red', label = \"ansh\")\n",
    "ax.plot(xtest, testing, color = 'green', label = \"sklearn\")\n",
    "ax.set_title(\"Prediction of Gold rate\")\n",
    "ax.legend()\n",
    "plt.show()"
   ]
  },
  {
   "cell_type": "markdown",
   "id": "4d066d30",
   "metadata": {},
   "source": [
    "###     Both the lines are co-inciding"
   ]
  },
  {
   "cell_type": "code",
   "execution_count": 210,
   "id": "8e91c8cb",
   "metadata": {},
   "outputs": [
    {
     "name": "stdout",
     "output_type": "stream",
     "text": [
      "25878.467546296306\n"
     ]
    }
   ],
   "source": [
    "myValue = a+b*2025\n",
    "print(myValue)"
   ]
  },
  {
   "cell_type": "code",
   "execution_count": 211,
   "id": "7ce0b7db",
   "metadata": {},
   "outputs": [
    {
     "name": "stdout",
     "output_type": "stream",
     "text": [
      "[25878.4675463]\n"
     ]
    }
   ],
   "source": [
    "predictedValue = model.predict(np.array([2025]).reshape(-1,1))\n",
    "print(predictedValue)"
   ]
  },
  {
   "cell_type": "markdown",
   "id": "ab19e45b",
   "metadata": {},
   "source": [
    "# Gold Values in 2025\n",
    "\n",
    "### My Prediction: 25878.467546296306\n",
    "\n",
    "\n",
    "### SKLearn Prediction: 25878.4675463"
   ]
  },
  {
   "cell_type": "markdown",
   "id": "348f2e90",
   "metadata": {},
   "source": [
    "# Prediction of Gold and Silver Data using MLR"
   ]
  },
  {
   "cell_type": "code",
   "execution_count": 113,
   "id": "7fbc42b5",
   "metadata": {},
   "outputs": [
    {
     "data": {
      "text/html": [
       "<div>\n",
       "<style scoped>\n",
       "    .dataframe tbody tr th:only-of-type {\n",
       "        vertical-align: middle;\n",
       "    }\n",
       "\n",
       "    .dataframe tbody tr th {\n",
       "        vertical-align: top;\n",
       "    }\n",
       "\n",
       "    .dataframe thead th {\n",
       "        text-align: right;\n",
       "    }\n",
       "</style>\n",
       "<table border=\"1\" class=\"dataframe\">\n",
       "  <thead>\n",
       "    <tr style=\"text-align: right;\">\n",
       "      <th></th>\n",
       "      <th>gold</th>\n",
       "      <th>silver</th>\n",
       "    </tr>\n",
       "  </thead>\n",
       "  <tbody>\n",
       "    <tr>\n",
       "      <th>1981</th>\n",
       "      <td>1645</td>\n",
       "      <td>2715</td>\n",
       "    </tr>\n",
       "    <tr>\n",
       "      <th>1982</th>\n",
       "      <td>1800</td>\n",
       "      <td>2720</td>\n",
       "    </tr>\n",
       "    <tr>\n",
       "      <th>1983</th>\n",
       "      <td>1970</td>\n",
       "      <td>3105</td>\n",
       "    </tr>\n",
       "    <tr>\n",
       "      <th>1984</th>\n",
       "      <td>2130</td>\n",
       "      <td>3570</td>\n",
       "    </tr>\n",
       "    <tr>\n",
       "      <th>1985</th>\n",
       "      <td>2140</td>\n",
       "      <td>3955</td>\n",
       "    </tr>\n",
       "  </tbody>\n",
       "</table>\n",
       "</div>"
      ],
      "text/plain": [
       "      gold  silver\n",
       "1981  1645    2715\n",
       "1982  1800    2720\n",
       "1983  1970    3105\n",
       "1984  2130    3570\n",
       "1985  2140    3955"
      ]
     },
     "execution_count": 113,
     "metadata": {},
     "output_type": "execute_result"
    }
   ],
   "source": [
    "data.head()"
   ]
  },
  {
   "cell_type": "code",
   "execution_count": 236,
   "id": "1c30bf2a",
   "metadata": {},
   "outputs": [],
   "source": [
    "xNew = data.index"
   ]
  },
  {
   "cell_type": "code",
   "execution_count": 241,
   "id": "1aaa5f4d",
   "metadata": {},
   "outputs": [],
   "source": [
    "y1 = np.array(data.values[:,0])\n",
    "y2 = np.array(data.values[:,1])"
   ]
  },
  {
   "cell_type": "code",
   "execution_count": 242,
   "id": "aed84c11",
   "metadata": {},
   "outputs": [],
   "source": [
    "xnew = np.array(xNew)"
   ]
  },
  {
   "cell_type": "code",
   "execution_count": 244,
   "id": "d26a5d60",
   "metadata": {},
   "outputs": [],
   "source": [
    "x1train, x1test, y1train, y1test = splitData(xnew, y1)\n",
    "x2train, x2test, y2train, y2test = splitData(xnew, y2)"
   ]
  },
  {
   "cell_type": "code",
   "execution_count": 249,
   "id": "74b0bc7d",
   "metadata": {},
   "outputs": [],
   "source": [
    "goldxy, goldx, goldy, goldx2 = slopes(x1train, y1train)"
   ]
  },
  {
   "cell_type": "code",
   "execution_count": 250,
   "id": "9fd9e1fd",
   "metadata": {},
   "outputs": [],
   "source": [
    "silverxy, silverx, silvery, silverx2 = slopes(x2train, y2train)"
   ]
  },
  {
   "cell_type": "code",
   "execution_count": 252,
   "id": "8358917b",
   "metadata": {},
   "outputs": [],
   "source": [
    "goldb = getB(goldxy, goldx, goldy, goldx2, len(x1train))"
   ]
  },
  {
   "cell_type": "code",
   "execution_count": 253,
   "id": "6eb16a2a",
   "metadata": {},
   "outputs": [],
   "source": [
    "silverb = getB(silverxy, silverx, silvery, silverx2, len(x2train))"
   ]
  },
  {
   "cell_type": "code",
   "execution_count": 254,
   "id": "3d9d0df5",
   "metadata": {},
   "outputs": [],
   "source": [
    "goldMean = np.mean(y1train)"
   ]
  },
  {
   "cell_type": "code",
   "execution_count": 255,
   "id": "01cee5eb",
   "metadata": {},
   "outputs": [],
   "source": [
    "silverMean = np.mean(y2train)"
   ]
  },
  {
   "cell_type": "code",
   "execution_count": 261,
   "id": "79240cc1",
   "metadata": {},
   "outputs": [],
   "source": [
    "intercept = np.mean(y1train) - goldb*goldMean - silverb - silverMean"
   ]
  },
  {
   "cell_type": "code",
   "execution_count": 263,
   "id": "23b7398a",
   "metadata": {},
   "outputs": [],
   "source": [
    "goldPredicted = []\n",
    "silverPredicted = []\n",
    "for i in range(1981,2022):\n",
    "    goldPredicted.append(goldb*i + intercept)\n",
    "    silverPredicted.append(silverb*i + intercept)\n"
   ]
  },
  {
   "cell_type": "code",
   "execution_count": 272,
   "id": "88ea063d",
   "metadata": {},
   "outputs": [
    {
     "data": {
      "image/png": "[encoded data removed]",
      "text/plain": [
       "<Figure size 432x288 with 1 Axes>"
      ]
     },
     "metadata": {
      "needs_background": "light"
     },
     "output_type": "display_data"
    }
   ],
   "source": [
    "fig, ax = plt.subplots()\n",
    "ax.scatter(xnew,y1, label = \"actual gold\", color = 'darkorange')\n",
    "ax.scatter(xnew, y2, label = \"actual silver\", color = \"silver\")\n",
    "ax.plot(xnew, goldPredicted, color = 'red', label = \"predicted gold\")\n",
    "ax.plot(xnew, silverPredicted, color = 'green', label = \"predicted silver\")\n",
    "ax.set_title(\"Prediction of Gold rate\")\n",
    "ax.legend()\n",
    "plt.show()"
   ]
  },
  {
   "cell_type": "code",
   "execution_count": 282,
   "id": "1736da5f",
   "metadata": {},
   "outputs": [
    {
     "name": "stdout",
     "output_type": "stream",
     "text": [
      "Gold MSE and RMSE:\n",
      "483952902.5660263\n",
      "21998.929577732328\n",
      "\n",
      "Silver MSE and RMSE:\n",
      "482456784136.3069\n",
      "694591.0913165435\n"
     ]
    }
   ],
   "source": [
    "goldMSE = mse(y1, goldPredicted)\n",
    "silverMSE = mse(y2, silverPredicted)\n",
    "goldRMSE = math.sqrt(goldMSE)\n",
    "silverRMSE = math.sqrt(silverMSE)\n",
    "print(\"Gold MSE and RMSE:\",goldMSE, goldRMSE,\"\\nSilver MSE and RMSE:\" ,silverMSE, silverRMSE, sep = '\\n')"
   ]
  },
  {
   "cell_type": "code",
   "execution_count": 283,
   "id": "80f7d00c",
   "metadata": {},
   "outputs": [
    {
     "name": "stdout",
     "output_type": "stream",
     "text": [
      "1588.993109966861\n"
     ]
    }
   ],
   "source": [
    "goldPrice = intercept + goldb * 2022\n",
    "goldPrice/=10\n",
    "print(goldPrice)"
   ]
  },
  {
   "cell_type": "code",
   "execution_count": 291,
   "id": "25b72851",
   "metadata": {},
   "outputs": [
    {
     "data": {
      "text/plain": [
       "LinearRegression()"
      ]
     },
     "execution_count": 291,
     "metadata": {},
     "output_type": "execute_result"
    }
   ],
   "source": [
    "goldModel = LinearRegression()\n",
    "goldModel.fit(np.array(x1train).reshape(-1,1), np.array(y1train).reshape(-1,1))\n",
    "silverModel = LinearRegression()\n",
    "silverModel.fit(np.array(x2train).reshape(-1,1), np.array(y2train).reshape(-1,1))"
   ]
  },
  {
   "cell_type": "code",
   "execution_count": 293,
   "id": "541fae31",
   "metadata": {},
   "outputs": [],
   "source": [
    "skgold = model.predict(np.array(x1test).reshape(-1,1))\n",
    "sksilver = model.predict(np.array(x2test).reshape(-1,1))"
   ]
  },
  {
   "cell_type": "code",
   "execution_count": 302,
   "id": "20a8f5b3",
   "metadata": {},
   "outputs": [
    {
     "data": {
      "image/png": "[encoded data removed]",
      "text/plain": [
       "<Figure size 432x288 with 1 Axes>"
      ]
     },
     "metadata": {
      "needs_background": "light"
     },
     "output_type": "display_data"
    }
   ],
   "source": [
    "fig, ax = plt.subplots()\n",
    "ax.scatter(x1test,y1test, label = \"actual gold\", color = 'darkorange')\n",
    "ax.scatter(x2test,y2test, label = \"actual silver\", color = \"silver\")\n",
    "ax.plot(x1test, skgold, color = 'red', label = \"predicted gold\")\n",
    "ax.plot(x2test, sksilver, color = 'green', label = \"predicted silver\")\n",
    "ax.set_title(\"Prediction of Gold rate\")\n",
    "ax.legend()\n",
    "plt.show()"
   ]
  },
  {
   "cell_type": "markdown",
   "id": "7e004b41",
   "metadata": {},
   "source": [
    "Graph is coinciding as there are 2 different testing values for gold and silver, hence the slope is **appearing** to be the same where it isn't"
   ]
  },
  {
   "cell_type": "code",
   "execution_count": 303,
   "id": "df017e8d",
   "metadata": {
    "scrolled": true
   },
   "outputs": [
    {
     "data": {
      "text/plain": [
       "array([  4814.79431342,  -9629.58862685,  -5502.62207248, -22698.316049  ,\n",
       "       -11693.07190403,   3439.1387953 ,  -1375.65551812,  -6190.44983155,\n",
       "        -1375.65551812,   2751.31103624, -15820.03845839])"
      ]
     },
     "execution_count": 303,
     "metadata": {},
     "output_type": "execute_result"
    }
   ],
   "source": [
    "sksilver - skgold"
   ]
  },
  {
   "cell_type": "code",
   "execution_count": null,
   "id": "db7d2fe1",
   "metadata": {},
   "outputs": [],
   "source": []
  },
  {
   "cell_type": "code",
   "execution_count": null,
   "id": "36f04b9d",
   "metadata": {},
   "outputs": [],
   "source": []
  }
 ],
 "metadata": {
  "kernelspec": {
   "display_name": "Python 3 (ipykernel)",
   "language": "python",
   "name": "python3"
  },
  "language_info": {
   "codemirror_mode": {
    "name": "ipython",
    "version": 3
   },
   "file_extension": ".py",
   "mimetype": "text/x-python",
   "name": "python",
   "nbconvert_exporter": "python",
   "pygments_lexer": "ipython3",
   "version": "3.10.12"
  }
 },
 "nbformat": 4,
 "nbformat_minor": 5
}
