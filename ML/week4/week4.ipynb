{
 "cells": [
  {
   "cell_type": "code",
   "execution_count": 34,
   "id": "7a27b71a",
   "metadata": {},
   "outputs": [],
   "source": [
    "import pandas as pd\n",
    "import numpy as np\n",
    "import matplotlib.pyplot as plt"
   ]
  },
  {
   "cell_type": "code",
   "execution_count": 35,
   "id": "722e06e4",
   "metadata": {},
   "outputs": [],
   "source": [
    "def mse(actual, predicted):\n",
    "    return np.sum(np.square(actual-predicted))/len(actual)"
   ]
  },
  {
   "cell_type": "code",
   "execution_count": 36,
   "id": "7b94caa2",
   "metadata": {},
   "outputs": [],
   "source": [
    "rates = [72,84,103,162,176,184,193,202,179,506,540,432,486,685,937,1330,1800,1645,1800,1970,2130,2140,2570,3130,3140,3200,3466,4334,4140,4598,4680,5160,4725,4045,4234,4400,4300,4990,5600,5850,7000,8400,10800,12500,14500,18500,26400,31050,29600,28006,26343,28623,29667,31438,35220,48651,50045,52950]\n",
    "data = {}\n",
    "N = len(rates)\n",
    "\n",
    "years = [1965 + i for i in range(N)]\n",
    "for i, rate in enumerate(rates):\n",
    "    data[1965 + i] = rate\n",
    "\n",
    "data = pd.DataFrame.from_dict(data, orient = 'index')"
   ]
  },
  {
   "cell_type": "code",
   "execution_count": 37,
   "id": "3b0e8d12",
   "metadata": {},
   "outputs": [],
   "source": [
    "from sklearn.model_selection import train_test_split as splitData\n",
    "xtrain, xtest,ytrain, ytest = splitData(years, rates, test_size = 0.05)"
   ]
  },
  {
   "cell_type": "code",
   "execution_count": 38,
   "id": "a1324704",
   "metadata": {},
   "outputs": [
    {
     "name": "stdout",
     "output_type": "stream",
     "text": [
      "109615 516075 1038049130 218477611\n"
     ]
    }
   ],
   "source": [
    "xy = np.sum(np.multiply(ytrain, xtrain))\n",
    "y = np.sum(ytrain)\n",
    "x =np.sum(xtrain)\n",
    "x2 = np.sum(np.multiply(xtrain, xtrain))\n",
    "print(x,y,xy,x2)"
   ]
  },
  {
   "cell_type": "code",
   "execution_count": 39,
   "id": "91bc133f",
   "metadata": {},
   "outputs": [],
   "source": [
    "n = len(ytrain)\n",
    "b = ((n*xy) -(x*y))/((n*x2) - (x*x))\n",
    "a = (y-(b*x))/n"
   ]
  },
  {
   "cell_type": "code",
   "execution_count": 40,
   "id": "008d010c",
   "metadata": {},
   "outputs": [
    {
     "name": "stdout",
     "output_type": "stream",
     "text": [
      "-1261515.7465138107 637.6813488871011\n"
     ]
    }
   ],
   "source": [
    "print(a,b)"
   ]
  },
  {
   "cell_type": "code",
   "execution_count": 41,
   "id": "952d632a",
   "metadata": {},
   "outputs": [],
   "source": [
    "prediction = []\n",
    "for i in xtest:\n",
    "    prediction.append(a+b*i)"
   ]
  },
  {
   "cell_type": "code",
   "execution_count": 42,
   "id": "f9ccb783",
   "metadata": {},
   "outputs": [],
   "source": [
    "normalEqErr = mse(np.array(ytest), np.array(prediction))"
   ]
  },
  {
   "cell_type": "markdown",
   "id": "89b0bae0",
   "metadata": {},
   "source": [
    "# Manual Findings\n",
    "\n",
    "### Mean Square Error: 62630550.997960314\n",
    "\n",
    "### Root Mean Square Error: 7913.946613287223"
   ]
  },
  {
   "cell_type": "code",
   "execution_count": 43,
   "id": "828aed5f",
   "metadata": {},
   "outputs": [
    {
     "name": "stdout",
     "output_type": "stream",
     "text": [
      "Mean Square Error: 218760528.80243254\n",
      "Root Mean Square Eror: 14790.555391953087\n"
     ]
    }
   ],
   "source": [
    "import math\n",
    "print(f\"Mean Square Error: {normalEqErr}\")\n",
    "print(f\"Root Mean Square Eror: {math.sqrt(normalEqErr)}\")"
   ]
  },
  {
   "cell_type": "code",
   "execution_count": null,
   "id": "91a70729",
   "metadata": {},
   "outputs": [],
   "source": []
  },
  {
   "cell_type": "code",
   "execution_count": null,
   "id": "a1eeb464",
   "metadata": {},
   "outputs": [],
   "source": [
    "\n"
   ]
  },
  {
   "cell_type": "code",
   "execution_count": 44,
   "id": "75983f77",
   "metadata": {},
   "outputs": [
    {
     "data": {
      "text/plain": [
       "LinearRegression()"
      ]
     },
     "execution_count": 44,
     "metadata": {},
     "output_type": "execute_result"
    }
   ],
   "source": [
    "from sklearn.linear_model import LinearRegression\n",
    "model = LinearRegression()\n",
    "model.fit(np.array(xtrain).reshape(-1,1),ytrain)"
   ]
  },
  {
   "cell_type": "code",
   "execution_count": 45,
   "id": "2395a7c5",
   "metadata": {},
   "outputs": [],
   "source": [
    "skPred = model.predict(np.array(years).reshape(-1,1))"
   ]
  },
  {
   "cell_type": "code",
   "execution_count": 46,
   "id": "eb15779a",
   "metadata": {},
   "outputs": [],
   "source": [
    "testing = model.predict(np.array(xtest).reshape(-1,1))"
   ]
  },
  {
   "cell_type": "code",
   "execution_count": 47,
   "id": "51c31c51",
   "metadata": {},
   "outputs": [
    {
     "name": "stdout",
     "output_type": "stream",
     "text": [
      "218760528.80242923\n",
      "14790.555391952976\n"
     ]
    }
   ],
   "source": [
    "modelmse = mse(np.array(ytest), np.array(testing))\n",
    "print(modelmse)\n",
    "print(math.sqrt(modelmse))"
   ]
  },
  {
   "cell_type": "markdown",
   "id": "c39a28dd",
   "metadata": {},
   "source": [
    "# SK Learn Values\n",
    "\n",
    "### Mean Square Error: 22594263.056220226\n",
    "\n",
    "### Root Mean Square Error: 4753.342303708016"
   ]
  },
  {
   "cell_type": "code",
   "execution_count": 48,
   "id": "c4b7f5e6",
   "metadata": {},
   "outputs": [
    {
     "data": {
      "image/png": "[encoded data removed]",
      "text/plain": [
       "<Figure size 432x288 with 1 Axes>"
      ]
     },
     "metadata": {
      "needs_background": "light"
     },
     "output_type": "display_data"
    }
   ],
   "source": [
    "fig, ax = plt.subplots()\n",
    "ax.scatter(xtest,ytest, label = \"actual\")\n",
    "ax.plot(xtest, prediction, color = 'red', label = \"ansh\")\n",
    "ax.plot(xtest, testing, color = 'green', label = \"sklearn\")\n",
    "ax.set_title(\"Prediction of Gold rate\")\n",
    "ax.legend()\n",
    "plt.show()"
   ]
  },
  {
   "cell_type": "code",
   "execution_count": null,
   "id": "b5c4850a",
   "metadata": {},
   "outputs": [],
   "source": []
  },
  {
   "cell_type": "code",
   "execution_count": null,
   "id": "83472eb8",
   "metadata": {},
   "outputs": [],
   "source": []
  },
  {
   "cell_type": "code",
   "execution_count": null,
   "id": "9ef2bdd7",
   "metadata": {},
   "outputs": [],
   "source": []
  }
 ],
 "metadata": {
  "kernelspec": {
   "display_name": "Python 3 (ipykernel)",
   "language": "python",
   "name": "python3"
  },
  "language_info": {
   "codemirror_mode": {
    "name": "ipython",
    "version": 3
   },
   "file_extension": ".py",
   "mimetype": "text/x-python",
   "name": "python",
   "nbconvert_exporter": "python",
   "pygments_lexer": "ipython3",
   "version": "3.10.12"
  }
 },
 "nbformat": 4,
 "nbformat_minor": 5
}
