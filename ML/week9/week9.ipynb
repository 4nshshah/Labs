{
 "cells": [
  {
   "cell_type": "code",
   "execution_count": 149,
   "id": "0ab17dce",
   "metadata": {},
   "outputs": [],
   "source": [
    "import pandas as pd\n",
    "import numpy as np"
   ]
  },
  {
   "cell_type": "code",
   "execution_count": 150,
   "id": "761f3b21",
   "metadata": {},
   "outputs": [],
   "source": [
    "def euclidean(x1,y1,x,y):\n",
    "    return ((x1-x)**2 + (y1-y)**2)**(1/2)"
   ]
  },
  {
   "cell_type": "code",
   "execution_count": 151,
   "id": "061a62a1",
   "metadata": {},
   "outputs": [],
   "source": [
    "def manhattan(x1,y1,x,y):\n",
    "    return abs(x1-x) + abs(y1-y)     "
   ]
  },
  {
   "cell_type": "code",
   "execution_count": 152,
   "id": "3825a0d1",
   "metadata": {},
   "outputs": [],
   "source": [
    "def minkowski(x1,y1,x,y,p=5):\n",
    "    return ((abs(x1-x))**p + 2*(abs(y1-y))**p)**(1/p)"
   ]
  },
  {
   "cell_type": "code",
   "execution_count": 153,
   "id": "3e0e5ea4",
   "metadata": {},
   "outputs": [],
   "source": [
    "data = pd.read_csv(\"../datasets/knn.csv\")    "
   ]
  },
  {
   "cell_type": "code",
   "execution_count": 154,
   "id": "668daca6",
   "metadata": {},
   "outputs": [],
   "source": [
    "c1x,c1y,c2x,c2y = 7,7,3,4 \n",
    "data[\"Euclidian\"] = [0]*len(data)\n",
    "data[\"Manhattan\"] = [0]*len(data)\n",
    "data[\"Minkowski\"] = [0]*len(data)\n",
    "\n",
    "\n",
    "#Using Eucildean\n",
    "clusters = []\n",
    "flag = False\n",
    "while(flag == False):\n",
    "    for i in range(len(data)):\n",
    "        data.iloc[i:i+1,3] = euclidean(data.iloc[i:i+1,0:1],data.iloc[i:i+1,0:1],c2x,c2y)\n",
    "        data.iloc[i:i+1,4] = manhattan(data.iloc[i:i+1,0:1],data.iloc[i:i+1,0:1],c2x,c2y)\n",
    "        data.iloc[i:i+1,5] = minkowski(data.iloc[i:i+1,0:1],data.iloc[i:i+1,0:1],c2x,c2y)\n",
    "\n",
    "    break\n",
    "mk,mh,eu = data.sort_values(['Minkowski']), data.sort_values(['Manhattan']), data.sort_values(['Euclidian'])\n",
    "\n"
   ]
  },
  {
   "cell_type": "code",
   "execution_count": null,
   "id": "0b767cc3",
   "metadata": {},
   "outputs": [],
   "source": []
  },
  {
   "cell_type": "code",
   "execution_count": 176,
   "id": "b58e6de3",
   "metadata": {},
   "outputs": [
    {
     "name": "stdout",
     "output_type": "stream",
     "text": [
      "Classification: bad\tK=2\n",
      "Classification: good\tK=3\n",
      "Classification: bad\tK=4\n"
     ]
    }
   ],
   "source": [
    "for k in range(2,5):\n",
    "    good, bad = 0,0\n",
    "    for i in range(k):\n",
    "        for i in mh['y'][:k]:\n",
    "            if i=='Good':\n",
    "                good += 1\n",
    "            else:\n",
    "                bad += 1\n",
    "    if good>bad:\n",
    "        what = \"good\"\n",
    "    else:\n",
    "        what = \"bad\"\n",
    "    print(f\"Classification: {what}\\tK={k}\")"
   ]
  },
  {
   "cell_type": "code",
   "execution_count": 177,
   "id": "ade85e10",
   "metadata": {},
   "outputs": [
    {
     "name": "stdout",
     "output_type": "stream",
     "text": [
      "Classification: bad\tK=0\n",
      "Classification: bad\tK=1\n",
      "Classification: bad\tK=2\n"
     ]
    }
   ],
   "source": [
    "for k in range(3):\n",
    "    good, bad = 0,0\n",
    "    for i in range(k):\n",
    "        for i in mk['y'][:k]:\n",
    "            if i=='Good':\n",
    "                good += 1\n",
    "            else:\n",
    "                bad += 1\n",
    "    if good>bad:\n",
    "        what = \"good\"\n",
    "    else:\n",
    "        what = \"bad\"\n",
    "    print(f\"Classification: {what}\\tK={k}\")"
   ]
  },
  {
   "cell_type": "code",
   "execution_count": null,
   "id": "a223cef1",
   "metadata": {},
   "outputs": [],
   "source": []
  },
  {
   "cell_type": "code",
   "execution_count": 180,
   "id": "b28795f5",
   "metadata": {},
   "outputs": [
    {
     "name": "stdout",
     "output_type": "stream",
     "text": [
      "0 0\n",
      "Classification: bad\tK=0\n",
      "1 0\n",
      "Classification: good\tK=1\n",
      "2 2\n",
      "Classification: bad\tK=2\n"
     ]
    }
   ],
   "source": [
    "for k in range(3):\n",
    "    good, bad = 0,0\n",
    "    for i in range(k):\n",
    "        for i in eu['y'][:k]:\n",
    "            if i=='Good':\n",
    "                good += 1\n",
    "            else:\n",
    "                bad += 1\n",
    "    print(good, bad)\n",
    "    if good>bad:\n",
    "        what = \"good\"\n",
    "    else:\n",
    "        what = \"bad\"\n",
    "    print(f\"Classification: {what}\\tK={k}\")"
   ]
  },
  {
   "cell_type": "code",
   "execution_count": 160,
   "id": "75918909",
   "metadata": {},
   "outputs": [],
   "source": [
    "from sklearn.neighbors import KNeighborsClassifier"
   ]
  },
  {
   "cell_type": "code",
   "execution_count": 161,
   "id": "d490e14f",
   "metadata": {},
   "outputs": [],
   "source": [
    "skdata = pd.read_csv(\"../datasets/knn.csv\")\n",
    "X = skdata.iloc[:,:2]\n",
    "y = skdata.iloc[:,2:]\n",
    "y = np.array(y)"
   ]
  },
  {
   "cell_type": "code",
   "execution_count": 162,
   "id": "90c89f7d",
   "metadata": {},
   "outputs": [],
   "source": [
    "def convert(x):\n",
    "    if x=='Good':\n",
    "        return 1\n",
    "    return 0\n",
    "y = list(map(convert,y))\n",
    "skdata[\"Classification\"] = y\n"
   ]
  },
  {
   "cell_type": "code",
   "execution_count": 163,
   "id": "dfd48bb6",
   "metadata": {},
   "outputs": [
    {
     "name": "stdout",
     "output_type": "stream",
     "text": [
      "Good\n"
     ]
    },
    {
     "name": "stderr",
     "output_type": "stream",
     "text": [
      "/home/AIML_Student/.local/lib/python3.10/site-packages/sklearn/base.py:465: UserWarning: X does not have valid feature names, but KNeighborsClassifier was fitted with feature names\n",
      "  warnings.warn(\n"
     ]
    }
   ],
   "source": [
    "\n",
    "#Using Minkowski\n",
    "mink = KNeighborsClassifier(n_neighbors=3,p=3, metric='minkowski')\n",
    "mink.fit(X,y)\n",
    "\n",
    "print(\"Good\" if neigh.predict([[3,7]]) else \"Bad\")"
   ]
  },
  {
   "cell_type": "code",
   "execution_count": 164,
   "id": "462d280c",
   "metadata": {},
   "outputs": [
    {
     "name": "stdout",
     "output_type": "stream",
     "text": [
      "Good\n"
     ]
    },
    {
     "name": "stderr",
     "output_type": "stream",
     "text": [
      "/home/AIML_Student/.local/lib/python3.10/site-packages/sklearn/base.py:465: UserWarning: X does not have valid feature names, but KNeighborsClassifier was fitted with feature names\n",
      "  warnings.warn(\n"
     ]
    }
   ],
   "source": [
    "#Using Eucildean\n",
    "eucli = KNeighborsClassifier(n_neighbors=3,p=2, metric='euclidean')\n",
    "eucli.fit(X,y)\n",
    "\n",
    "print(\"Good\" if neigh.predict([[3,7]]) else \"Bad\")"
   ]
  },
  {
   "cell_type": "code",
   "execution_count": 165,
   "id": "dbc48b1d",
   "metadata": {},
   "outputs": [
    {
     "name": "stdout",
     "output_type": "stream",
     "text": [
      "Good\n"
     ]
    },
    {
     "name": "stderr",
     "output_type": "stream",
     "text": [
      "/home/AIML_Student/.local/lib/python3.10/site-packages/sklearn/base.py:465: UserWarning: X does not have valid feature names, but KNeighborsClassifier was fitted with feature names\n",
      "  warnings.warn(\n"
     ]
    }
   ],
   "source": [
    "#Using Manhattan Distance\n",
    "nyc = KNeighborsClassifier(n_neighbors=3,p=1, metric='manhattan')\n",
    "nyc.fit(X,y)\n",
    "\n",
    "print(\"Good\" if neigh.predict([[3,7]]) else \"Bad\")"
   ]
  },
  {
   "cell_type": "code",
   "execution_count": 175,
   "id": "b77306fe",
   "metadata": {},
   "outputs": [
    {
     "name": "stderr",
     "output_type": "stream",
     "text": [
      "/home/AIML_Student/.local/lib/python3.10/site-packages/sklearn/inspection/_plot/decision_boundary.py:186: UserWarning: The following kwargs were not used by contour: 'shading'\n",
      "  self.surface_ = plot_func(self.xx0, self.xx1, self.response, **kwargs)\n",
      "/home/AIML_Student/.local/lib/python3.10/site-packages/sklearn/inspection/_plot/decision_boundary.py:186: UserWarning: The following kwargs were not used by contour: 'shading'\n",
      "  self.surface_ = plot_func(self.xx0, self.xx1, self.response, **kwargs)\n",
      "/home/AIML_Student/.local/lib/python3.10/site-packages/sklearn/inspection/_plot/decision_boundary.py:186: UserWarning: The following kwargs were not used by contour: 'shading'\n",
      "  self.surface_ = plot_func(self.xx0, self.xx1, self.response, **kwargs)\n"
     ]
    },
    {
     "data": {
      "image/png": "[encoded data removed]",
      "text/plain": [
       "<Figure size 864x360 with 3 Axes>"
      ]
     },
     "metadata": {
      "needs_background": "light"
     },
     "output_type": "display_data"
    }
   ],
   "source": [
    "import matplotlib.pyplot as plt\n",
    "\n",
    "from sklearn.inspection import DecisionBoundaryDisplay\n",
    "_, axs = plt.subplots(ncols=3, figsize=(12, 5))\n",
    "clf = KNeighborsClassifier(n_neighbors=3, p=1)\n",
    "for ax, weights in zip(axs, (\"minkowski\", \"cityblock\",\"euclidean\")):\n",
    "    clf.set_params(metric=weights)\n",
    "    clf.fit(X,y)\n",
    "    disp = DecisionBoundaryDisplay.from_estimator(\n",
    "        clf,\n",
    "        X,\n",
    "        response_method=\"predict\",\n",
    "        cmap=plt.cm.RdYlGn,\n",
    "        xlabel=\"X1\",\n",
    "        ylabel=\"X2\",\n",
    "        shading=\"auto\",\n",
    "        alpha=0.5,\n",
    "        ax=ax,\n",
    "    )\n",
    "    scatter = disp.ax_.scatter(X.iloc[:, 0], X.iloc[:, 1], c=y, edgecolors=\"k\",cmap=plt.cm.RdYlGn)\n",
    "    disp.ax_.legend(\n",
    "        scatter.legend_elements()[0],\n",
    "        [\"Bad\",\"Good\"],\n",
    "        loc=\"lower left\",\n",
    "        title=\"Classes\",\n",
    "        \n",
    "    )\n",
    "    _ = disp.ax_.set_title(\n",
    "        f\"3-Class classification\\n(k={clf.n_neighbors}, weights={weights!r})\"\n",
    "    )\n",
    "plt.show()\n"
   ]
  },
  {
   "cell_type": "code",
   "execution_count": null,
   "id": "7d47e083",
   "metadata": {},
   "outputs": [],
   "source": []
  },
  {
   "cell_type": "code",
   "execution_count": null,
   "id": "c9d26c26",
   "metadata": {},
   "outputs": [],
   "source": []
  },
  {
   "cell_type": "code",
   "execution_count": null,
   "id": "f07e4aee",
   "metadata": {},
   "outputs": [],
   "source": []
  }
 ],
 "metadata": {
  "kernelspec": {
   "display_name": "Python 3 (ipykernel)",
   "language": "python",
   "name": "python3"
  },
  "language_info": {
   "codemirror_mode": {
    "name": "ipython",
    "version": 3
   },
   "file_extension": ".py",
   "mimetype": "text/x-python",
   "name": "python",
   "nbconvert_exporter": "python",
   "pygments_lexer": "ipython3",
   "version": "3.10.12"
  }
 },
 "nbformat": 4,
 "nbformat_minor": 5
}
