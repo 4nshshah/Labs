{
 "cells": [
  {
   "cell_type": "code",
   "execution_count": 1,
   "id": "ea2e432d",
   "metadata": {},
   "outputs": [],
   "source": [
    "import numpy as np\n",
    "import pandas as pd\n",
    "import random\n",
    "import matplotlib.pyplot as plt"
   ]
  },
  {
   "cell_type": "code",
   "execution_count": 4,
   "id": "60dc7800",
   "metadata": {},
   "outputs": [],
   "source": [
    "data = pd.read_csv(\"../datasets/logreg.csv\")\n",
    "data.sample(frac = 1)\n",
    "X,Y = data[\"x1\"],data[\"y\"]\n"
   ]
  },
  {
   "cell_type": "code",
   "execution_count": 5,
   "id": "03ed310b",
   "metadata": {},
   "outputs": [],
   "source": [
    "def sigmoid(x):\n",
    "    return 1/(1+np.exp(-x))"
   ]
  },
  {
   "cell_type": "code",
   "execution_count": 54,
   "id": "6a085391",
   "metadata": {},
   "outputs": [],
   "source": [
    "def accuracy(y,predicted):\n",
    "    return np.sum(y==predicted)/len(predicted)*100"
   ]
  },
  {
   "cell_type": "code",
   "execution_count": 55,
   "id": "2a6be779",
   "metadata": {},
   "outputs": [],
   "source": [
    "def convert(p):\n",
    "    t = []\n",
    "    for i in p:\n",
    "        if i>0.5:\n",
    "            t.append(1)\n",
    "        else:\n",
    "            t.append(0)\n",
    "    return t"
   ]
  },
  {
   "cell_type": "code",
   "execution_count": 56,
   "id": "3542050b",
   "metadata": {},
   "outputs": [],
   "source": [
    "from sklearn.linear_model import LogisticRegression\n",
    "model = LogisticRegression()\n",
    "model.fit(np.array(X).reshape(-1,1),Y)\n",
    "[[B1]] = model.coef_\n",
    "[B0] = model.intercept_"
   ]
  },
  {
   "cell_type": "code",
   "execution_count": 57,
   "id": "9919b153",
   "metadata": {},
   "outputs": [],
   "source": [
    "hypo = np.dot(B1,X.T) + B0\n",
    "prediction = sigmoid(hypo)\n",
    "prediction = convert(prediction)"
   ]
  },
  {
   "cell_type": "code",
   "execution_count": 58,
   "id": "5cb37e76",
   "metadata": {},
   "outputs": [
    {
     "name": "stdout",
     "output_type": "stream",
     "text": [
      "100.0\n"
     ]
    },
    {
     "data": {
      "text/plain": [
       "[0, 0, 0, 0, 0, 1, 1, 1, 1, 1]"
      ]
     },
     "execution_count": 58,
     "metadata": {},
     "output_type": "execute_result"
    }
   ],
   "source": [
    "print(accuracy(prediction,Y))"
   ]
  },
  {
   "cell_type": "code",
   "execution_count": 64,
   "id": "d4bf2cde",
   "metadata": {},
   "outputs": [
    {
     "name": "stdout",
     "output_type": "stream",
     "text": [
      "For X=2.781084, pred=0, loss=0, predWithRound=0.09011843087420256, error=0.09011843087420256\n",
      "For X=1.465489, pred=0, loss=0, predWithRound=0.019369574767893347, error=0.019369574767893347\n",
      "For X=3.396562, pred=0, loss=0, predWithRound=0.17394784416907869, error=0.17394784416907869\n",
      "For X=1.38807, pred=0, loss=0, predWithRound=0.01764723237807845, error=0.01764723237807845\n",
      "For X=3.064072, pred=0, loss=0, predWithRound=0.12288607383137673, error=0.12288607383137673\n",
      "For X=7.627531, pred=1, loss=0, predWithRound=0.974100253490875, error=-0.025899746509124966\n",
      "For X=5.332441, pred=1, loss=0, predWithRound=0.6930840238300584, error=-0.3069159761699416\n",
      "For X=6.922597, pred=1, loss=0, predWithRound=0.9406635985967389, error=-0.05933640140326113\n",
      "For X=8.675419, pred=1, loss=0, predWithRound=0.9926923584787827, error=-0.007307641521217323\n",
      "For X=7.673756, pred=1, loss=0, predWithRound=0.9754917334436186, error=-0.024508266556381386\n"
     ]
    }
   ],
   "source": [
    "p = []\n",
    "l = []\n",
    "e = []\n",
    "for i in range(len(X)):\n",
    "    instance = X.iloc[i]\n",
    "    pred = 1/(1+np.exp(-(B0 + B1*instance)))\n",
    "    loss = round(pred)-Y[i]\n",
    "    error = pred - Y[i]\n",
    "    e.append(error)\n",
    "    p.append(round(pred))\n",
    "    l.append(loss)\n",
    "    print(f\"For X={instance}, pred={round(pred)}, loss={loss}, predWithRound={pred}, error={error}\")\n"
   ]
  },
  {
   "cell_type": "code",
   "execution_count": 68,
   "id": "668b9c11",
   "metadata": {
    "scrolled": true
   },
   "outputs": [
    {
     "data": {
      "text/plain": [
       "Text(0, 0.5, 'Error')"
      ]
     },
     "execution_count": 68,
     "metadata": {},
     "output_type": "execute_result"
    },
    {
     "data": {
      "image/png": "[encoded data removed]",
      "text/plain": [
       "<Figure size 432x288 with 1 Axes>"
      ]
     },
     "metadata": {
      "needs_background": "light"
     },
     "output_type": "display_data"
    }
   ],
   "source": [
    "plt.plot([B1]*10, e)\n",
    "plt.title(\"B1 vs Error\")\n",
    "plt.xlabel(\"B1\")\n",
    "plt.ylabel(\"Error\")"
   ]
  },
  {
   "cell_type": "code",
   "execution_count": 75,
   "id": "6b9a502b",
   "metadata": {},
   "outputs": [
    {
     "name": "stdout",
     "output_type": "stream",
     "text": [
      "Log Error = 0.09401838662906944\n",
      "Accuracy =  100.00%\n"
     ]
    }
   ],
   "source": [
    "from sklearn.metrics import accuracy_score, log_loss\n",
    "y_pred = model.predict(np.array(X).reshape(-1,1))\n",
    "y_prob = model.predict_proba(np.array(X).reshape(-1,1))[:,1]\n",
    "error = log_loss(Y,y_prob)\n",
    "print(f\"Log Error = {error}\")\n",
    "\n",
    "accuracy = accuracy_score(Y, y_pred)\n",
    "print(f'Accuracy = {accuracy * 100: .2f}%')"
   ]
  },
  {
   "cell_type": "code",
   "execution_count": 96,
   "id": "2c8a5881",
   "metadata": {},
   "outputs": [
    {
     "name": "stderr",
     "output_type": "stream",
     "text": [
      "/tmp/ipykernel_12652/2201047316.py:2: RuntimeWarning: divide by zero encountered in log\n",
      "  a = -np.log(lp)\n",
      "/tmp/ipykernel_12652/2201047316.py:3: RuntimeWarning: divide by zero encountered in log\n",
      "  b =np.log(1-lp)\n"
     ]
    },
    {
     "data": {
      "image/png": "[encoded data removed]",
      "text/plain": [
       "<Figure size 432x288 with 1 Axes>"
      ]
     },
     "metadata": {
      "needs_background": "light"
     },
     "output_type": "display_data"
    }
   ],
   "source": [
    "lp = np.linspace(0,1,100)\n",
    "a = -np.log(lp)\n",
    "b =np.log(1-lp)\n",
    "plt.plot(lp,a)\n",
    "plt.plot(lp,-b)\n",
    "plt.show()\n"
   ]
  },
  {
   "cell_type": "code",
   "execution_count": null,
   "id": "602cd43c",
   "metadata": {},
   "outputs": [],
   "source": []
  }
 ],
 "metadata": {
  "kernelspec": {
   "display_name": "Python 3 (ipykernel)",
   "language": "python",
   "name": "python3"
  },
  "language_info": {
   "codemirror_mode": {
    "name": "ipython",
    "version": 3
   },
   "file_extension": ".py",
   "mimetype": "text/x-python",
   "name": "python",
   "nbconvert_exporter": "python",
   "pygments_lexer": "ipython3",
   "version": "3.10.12"
  }
 },
 "nbformat": 4,
 "nbformat_minor": 5
}
