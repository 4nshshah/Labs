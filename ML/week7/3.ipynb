{
 "cells": [
  {
   "cell_type": "code",
   "execution_count": 390,
   "id": "d970e4a5",
   "metadata": {},
   "outputs": [],
   "source": [
    "import numpy as np\n",
    "import pandas as pd\n",
    "import random\n",
    "import matplotlib.pyplot as plt"
   ]
  },
  {
   "cell_type": "code",
   "execution_count": 406,
   "id": "2fb0721e",
   "metadata": {},
   "outputs": [
    {
     "data": {
      "text/plain": [
       "array([[ 2.781084,  2.550537],\n",
       "       [ 1.465489,  2.362125],\n",
       "       [ 3.396562,  4.400294],\n",
       "       [ 1.38807 ,  1.85022 ],\n",
       "       [ 3.064072,  3.005306],\n",
       "       [ 7.627531,  2.759262],\n",
       "       [ 5.332441,  2.088627],\n",
       "       [ 6.922597,  1.771064],\n",
       "       [ 8.675419, -0.24207 ],\n",
       "       [ 7.673756,  3.508563]])"
      ]
     },
     "execution_count": 406,
     "metadata": {},
     "output_type": "execute_result"
    }
   ],
   "source": [
    "data = pd.read_csv(\"../datasets/logreg.csv\")\n",
    "data.sample(frac = 1)\n",
    "x,y = data.drop(\"y\", axis = 1),data[\"y\"]\n",
    "x = np.array(x)"
   ]
  },
  {
   "cell_type": "code",
   "execution_count": 392,
   "id": "d88897ac",
   "metadata": {},
   "outputs": [],
   "source": [
    "def predict(x,theta,bias):\n",
    "    gx = 1/(1+np.exp(-(np.dot(x,theta) + bias)))\n",
    "    return gx"
   ]
  },
  {
   "cell_type": "code",
   "execution_count": 393,
   "id": "90d2f77f",
   "metadata": {},
   "outputs": [],
   "source": [
    "def accuracy(y,predicted):\n",
    "    return np.sum(y==prediction)/len(prediction)*100"
   ]
  },
  {
   "cell_type": "code",
   "execution_count": 394,
   "id": "32f4ba9e",
   "metadata": {},
   "outputs": [],
   "source": [
    "def update(x,y,prediction,bias,theta,alpha):\n",
    "    delB = (np.sum(prediction - y))/len(y)\n",
    "    delW = (np.dot((prediction - y),x))/len(y)\n",
    "\n",
    "    b = bias - alpha*delB\n",
    "    t = theta - alpha*delW\n",
    "    return b, t"
   ]
  },
  {
   "cell_type": "code",
   "execution_count": 395,
   "id": "b666d29d",
   "metadata": {},
   "outputs": [],
   "source": [
    "def cost(actual, predicted):\n",
    "    n = len(actual)\n",
    "    return -(np.sum(actual*np.log(predicted) + (1-actual)*np.log(1-predicted)))/n"
   ]
  },
  {
   "cell_type": "code",
   "execution_count": 396,
   "id": "ca78ff21",
   "metadata": {},
   "outputs": [],
   "source": [
    "def gradientDescent(x,y,alpha,epoch):\n",
    "    bias = 0\n",
    "    thetas = np.zeros(x.shape[1])\n",
    "    costs = []\n",
    "    bHist,tHist = [],[]\n",
    "    a =[]\n",
    "\n",
    "    for i in range(epoch):\n",
    "        prediction = predict(x,thetas,bias)\n",
    "        bias, thetas = update(x,y,prediction,bias,thetas,alpha)\n",
    "        newCost = cost(y,prediction)\n",
    "        \n",
    "       \n",
    "        costs.append(newCost)\n",
    "        tHist.append(thetas)\n",
    "        bHist.append(bias)\n",
    "        a.append(accuracy(y,prediction))\n",
    "\n",
    "    return thetas,bias,tHist,bHist, costs, a\n",
    "\n"
   ]
  },
  {
   "cell_type": "code",
   "execution_count": 397,
   "id": "e908732d",
   "metadata": {},
   "outputs": [],
   "source": [
    "weight, bias, weights, biases, costs, acc = gradientDescent(x,y,epoch=50,alpha = 0.04)\n"
   ]
  },
  {
   "cell_type": "code",
   "execution_count": null,
   "id": "99fc923a",
   "metadata": {},
   "outputs": [],
   "source": []
  },
  {
   "cell_type": "code",
   "execution_count": 399,
   "id": "67f3f444",
   "metadata": {},
   "outputs": [
    {
     "data": {
      "text/plain": [
       "[<matplotlib.lines.Line2D at 0x7f69a1ec8fd0>]"
      ]
     },
     "execution_count": 399,
     "metadata": {},
     "output_type": "execute_result"
    },
    {
     "data": {
      "image/png": "[encoded data removed]",
      "text/plain": [
       "<Figure size 432x288 with 1 Axes>"
      ]
     },
     "metadata": {
      "needs_background": "light"
     },
     "output_type": "display_data"
    }
   ],
   "source": [
    "b1,b2 = [],[]\n",
    "for i in weights:\n",
    "    b1.append(i[0])\n",
    "    b2.append(i[1])\n",
    "plt.plot(b2, costs)\n",
    "plt.plot(b1, costs)"
   ]
  },
  {
   "cell_type": "code",
   "execution_count": 400,
   "id": "e01119e5",
   "metadata": {},
   "outputs": [],
   "source": [
    "prediction = predict(x,weight, bias)"
   ]
  },
  {
   "cell_type": "code",
   "execution_count": 401,
   "id": "6731fb27",
   "metadata": {},
   "outputs": [],
   "source": [
    "for i in range(len(prediction)):\n",
    "    if prediction[i]>0.5:\n",
    "        prediction[i] = 1\n",
    "    else:\n",
    "        prediction[i] = 0\n"
   ]
  },
  {
   "cell_type": "code",
   "execution_count": 402,
   "id": "3f4aa949",
   "metadata": {},
   "outputs": [
    {
     "name": "stdout",
     "output_type": "stream",
     "text": [
      "100.0 %\n"
     ]
    }
   ],
   "source": [
    "print(np.sum(y==prediction)/len(prediction)*100 , \"%\")"
   ]
  },
  {
   "cell_type": "code",
   "execution_count": 403,
   "id": "3e69861b",
   "metadata": {},
   "outputs": [
    {
     "data": {
      "text/plain": [
       "[<matplotlib.lines.Line2D at 0x7f69a1d120b0>]"
      ]
     },
     "execution_count": 403,
     "metadata": {},
     "output_type": "execute_result"
    },
    {
     "data": {
      "image/png": "[encoded data removed]",
      "text/plain": [
       "<Figure size 432x288 with 1 Axes>"
      ]
     },
     "metadata": {
      "needs_background": "light"
     },
     "output_type": "display_data"
    }
   ],
   "source": [
    "plt.plot(a)"
   ]
  },
  {
   "cell_type": "code",
   "execution_count": 423,
   "id": "2c8455b9",
   "metadata": {},
   "outputs": [],
   "source": [
    "from sklearn.linear_model import LogisticRegression\n",
    "from sklearn.metrics import accuracy_score"
   ]
  },
  {
   "cell_type": "code",
   "execution_count": 425,
   "id": "787729de",
   "metadata": {},
   "outputs": [
    {
     "name": "stdout",
     "output_type": "stream",
     "text": [
      "Accuracy using scikit-learn = 100.00%\n"
     ]
    }
   ],
   "source": [
    "lr = LogisticRegression(solver='lbfgs')\n",
    "lr.fit(x, y)\n",
    "sklearn_accuracy = accuracy_score(y, lr.predict(x))\n",
    "print(f\"Accuracy using scikit-learn = {sklearn_accuracy * 100:.2f}%\")"
   ]
  },
  {
   "cell_type": "code",
   "execution_count": null,
   "id": "35b1b306",
   "metadata": {},
   "outputs": [],
   "source": []
  }
 ],
 "metadata": {
  "kernelspec": {
   "display_name": "Python 3 (ipykernel)",
   "language": "python",
   "name": "python3"
  },
  "language_info": {
   "codemirror_mode": {
    "name": "ipython",
    "version": 3
   },
   "file_extension": ".py",
   "mimetype": "text/x-python",
   "name": "python",
   "nbconvert_exporter": "python",
   "pygments_lexer": "ipython3",
   "version": "3.10.12"
  }
 },
 "nbformat": 4,
 "nbformat_minor": 5
}
