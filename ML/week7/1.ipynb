{
 "cells": [
  {
   "cell_type": "code",
   "execution_count": 2,
   "id": "cf45a548",
   "metadata": {},
   "outputs": [],
   "source": [
    "import numpy as np\n",
    "import pandas as pd\n",
    "import random\n",
    "import matplotlib.pyplot as plt"
   ]
  },
  {
   "cell_type": "code",
   "execution_count": 3,
   "id": "0a102bcf",
   "metadata": {},
   "outputs": [],
   "source": [
    "data = pd.read_csv(\"../datasets/logreg.csv\")\n",
    "data.sample(frac = 1)\n",
    "x,y = data.drop(\"y\", axis = 1),data[\"y\"]\n",
    "x = np.array(x)"
   ]
  },
  {
   "cell_type": "code",
   "execution_count": 4,
   "id": "0d0146c6",
   "metadata": {},
   "outputs": [],
   "source": [
    "def sigmoid(x):\n",
    "    return 1/(1+np.exp(-x))"
   ]
  },
  {
   "cell_type": "code",
   "execution_count": 8,
   "id": "724f9a0f",
   "metadata": {},
   "outputs": [],
   "source": [
    "from sklearn.linear_model import LogisticRegression\n",
    "model = LogisticRegression()\n",
    "model.fit(x,y)\n",
    "weights = model.coef_\n",
    "intercept = model.intercept_\n"
   ]
  },
  {
   "cell_type": "code",
   "execution_count": 10,
   "id": "411fc023",
   "metadata": {},
   "outputs": [
    {
     "data": {
      "text/plain": [
       "array([-4.55163352])"
      ]
     },
     "execution_count": 10,
     "metadata": {},
     "output_type": "execute_result"
    }
   ],
   "source": [
    "intercept"
   ]
  },
  {
   "cell_type": "code",
   "execution_count": 23,
   "id": "af477346",
   "metadata": {},
   "outputs": [
    {
     "name": "stdout",
     "output_type": "stream",
     "text": [
      "[[0.10224981 0.02502684 0.10850275 0.02736265 0.11917298 0.97040723\n",
      "  0.73366364 0.95300013 0.99699747 0.96361841]]\n"
     ]
    }
   ],
   "source": [
    "hypo = np.dot(weights,x.T) + intercept\n",
    "prediction = sigmoid(hypo)\n",
    "print(prediction)"
   ]
  },
  {
   "cell_type": "code",
   "execution_count": 24,
   "id": "ee6d36a9",
   "metadata": {},
   "outputs": [],
   "source": [
    "for i in range(len(prediction[0])):\n",
    "    if prediction[0][i]>0.5:\n",
    "        prediction[0][i] = 1\n",
    "    else:\n",
    "        prediction[0][i] = 0\n"
   ]
  },
  {
   "cell_type": "code",
   "execution_count": 25,
   "id": "5b2a6ac5",
   "metadata": {},
   "outputs": [
    {
     "name": "stdout",
     "output_type": "stream",
     "text": [
      "100.0 %\n"
     ]
    }
   ],
   "source": [
    "print(np.sum(y==prediction[0])/len(prediction[0])*100 , \"%\")"
   ]
  },
  {
   "cell_type": "code",
   "execution_count": null,
   "id": "352e1ca4",
   "metadata": {},
   "outputs": [],
   "source": [
    "b1 = 0\n",
    "b2 = 0\n",
    "b0 = 0\n",
    "for epoch in range(50):\n",
    "    for\n",
    "    b = b + alpha * (y – prediction) * prediction * (1 – prediction) * x[]"
   ]
  }
 ],
 "metadata": {
  "kernelspec": {
   "display_name": "Python 3 (ipykernel)",
   "language": "python",
   "name": "python3"
  },
  "language_info": {
   "codemirror_mode": {
    "name": "ipython",
    "version": 3
   },
   "file_extension": ".py",
   "mimetype": "text/x-python",
   "name": "python",
   "nbconvert_exporter": "python",
   "pygments_lexer": "ipython3",
   "version": "3.10.12"
  }
 },
 "nbformat": 4,
 "nbformat_minor": 5
}
