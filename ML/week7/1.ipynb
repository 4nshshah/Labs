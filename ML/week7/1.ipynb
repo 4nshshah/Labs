{
 "cells": [
  {
   "cell_type": "code",
   "execution_count": 75,
   "id": "4975ae11",
   "metadata": {},
   "outputs": [],
   "source": [
    "import numpy as np\n",
    "import pandas as pd\n",
    "import random\n",
    "import matplotlib.pyplot as plt"
   ]
  },
  {
   "cell_type": "code",
   "execution_count": 85,
   "id": "96164735",
   "metadata": {},
   "outputs": [],
   "source": [
    "data = pd.read_csv(\"../datasets/logreg.csv\")\n",
    "data.sample(frac = 1)\n",
    "X,Y = data.drop(\"y\", axis = 1),data[\"y\"]\n"
   ]
  },
  {
   "cell_type": "code",
   "execution_count": 86,
   "id": "0fee5d55",
   "metadata": {},
   "outputs": [],
   "source": [
    "def sigmoid(x):\n",
    "    return 1/(1+np.exp(-x))"
   ]
  },
  {
   "cell_type": "code",
   "execution_count": 87,
   "id": "b7749bd3",
   "metadata": {},
   "outputs": [],
   "source": [
    "from sklearn.linear_model import LogisticRegression\n",
    "model = LogisticRegression()\n",
    "model.fit(x,y)\n",
    "[[B1,B2]] = model.coef_\n",
    "[B0] = model.intercept_"
   ]
  },
  {
   "cell_type": "code",
   "execution_count": null,
   "id": "1f9cffb3",
   "metadata": {},
   "outputs": [],
   "source": []
  },
  {
   "cell_type": "code",
   "execution_count": 88,
   "id": "f480a4e0",
   "metadata": {},
   "outputs": [
    {
     "name": "stdout",
     "output_type": "stream",
     "text": [
      "[[0.10224981 0.02502684 0.10850275 0.02736265 0.11917298 0.97040723\n",
      "  0.73366364 0.95300013 0.99699747 0.96361841]]\n"
     ]
    }
   ],
   "source": [
    "hypo = np.dot(weights,X.T) + intercept\n",
    "prediction = sigmoid(hypo)\n",
    "print(prediction)"
   ]
  },
  {
   "cell_type": "code",
   "execution_count": 89,
   "id": "3ffbb7ac",
   "metadata": {},
   "outputs": [],
   "source": [
    "for i in range(len(prediction[0])):\n",
    "    if prediction[0][i]>0.5:\n",
    "        prediction[0][i] = 1\n",
    "    else:\n",
    "        prediction[0][i] = 0\n"
   ]
  },
  {
   "cell_type": "code",
   "execution_count": 90,
   "id": "b24e5280",
   "metadata": {},
   "outputs": [
    {
     "name": "stdout",
     "output_type": "stream",
     "text": [
      "100.0 %\n"
     ]
    }
   ],
   "source": [
    "print(np.sum(y==prediction[0])/len(prediction[0])*100 , \"%\")"
   ]
  },
  {
   "cell_type": "code",
   "execution_count": 91,
   "id": "f43e1eaf",
   "metadata": {},
   "outputs": [
    {
     "name": "stdout",
     "output_type": "stream",
     "text": [
      "For X=(2.781084, 2.550537), pred=0, loss=0, predWithRound=0.1022498125742718, error=0.1022498125742718\n",
      "For X=(1.465489, 2.362125), pred=0, loss=0, predWithRound=0.02502684032438537, error=0.02502684032438537\n",
      "For X=(3.396562, 4.400294), pred=0, loss=0, predWithRound=0.10850275313408725, error=0.10850275313408725\n",
      "For X=(1.38807, 1.85022), pred=0, loss=0, predWithRound=0.027362648385509735, error=0.027362648385509735\n",
      "For X=(3.064072, 3.005306), pred=0, loss=0, predWithRound=0.11917297565982612, error=0.11917297565982612\n",
      "For X=(7.627531, 2.759262), pred=1, loss=0, predWithRound=0.970407230498633, error=-0.029592769501367022\n",
      "For X=(5.332441, 2.088627), pred=1, loss=0, predWithRound=0.7336636387683158, error=-0.26633636123168425\n",
      "For X=(6.922597, 1.771064), pred=1, loss=0, predWithRound=0.9530001344329782, error=-0.04699986556702185\n",
      "For X=(8.675419, -0.24207), pred=1, loss=0, predWithRound=0.9969974711350023, error=-0.0030025288649977444\n",
      "For X=(7.673756, 3.508563), pred=1, loss=0, predWithRound=0.9636184093379092, error=-0.03638159066209079\n"
     ]
    }
   ],
   "source": [
    "p = []\n",
    "l = []\n",
    "e = []\n",
    "for i in range(len(X)):\n",
    "    instance = X.iloc[i]\n",
    "    pred = 1/(1+np.exp(-(B0 + B1*instance[0] + B2*instance[1])))\n",
    "    loss = round(pred)-y[i]\n",
    "    error = pred - y[i]\n",
    "    e.append(error)\n",
    "    p.append(round(pred))\n",
    "    l.append(loss)\n",
    "    print(f\"For X={instance[0], instance[1]}, pred={round(pred)}, loss={loss}, predWithRound={pred}, error={error}\")\n"
   ]
  },
  {
   "cell_type": "code",
   "execution_count": 92,
   "id": "3b69fcc6",
   "metadata": {},
   "outputs": [
    {
     "name": "stdout",
     "output_type": "stream",
     "text": [
      "100.0 %\n"
     ]
    }
   ],
   "source": [
    "print(np.sum(y==p)/len(p)*100 , \"%\")"
   ]
  },
  {
   "cell_type": "code",
   "execution_count": 93,
   "id": "70ef09c8",
   "metadata": {},
   "outputs": [
    {
     "data": {
      "image/png": "[encoded data removed]",
      "text/plain": [
       "<Figure size 432x288 with 1 Axes>"
      ]
     },
     "metadata": {
      "needs_background": "light"
     },
     "output_type": "display_data"
    }
   ],
   "source": [
    "b1_val = np.array(B1)\n",
    "b1_val = np.repeat(b1_val, 10)\n",
    "b2_val = np.array(B2)\n",
    "b2_val = np.repeat(b2_val, 10)\n",
    "plt.plot(b1_val, e)\n",
    "plt.plot(b2_val, e)\n",
    "plt.xlabel('B1 and B2')\n",
    "plt.ylabel('Error')\n",
    "plt.title('B1 & B2 vs. Error')\n",
    "plt.show()"
   ]
  },
  {
   "cell_type": "code",
   "execution_count": null,
   "id": "53b8af47",
   "metadata": {},
   "outputs": [],
   "source": []
  }
 ],
 "metadata": {
  "kernelspec": {
   "display_name": "Python 3 (ipykernel)",
   "language": "python",
   "name": "python3"
  },
  "language_info": {
   "codemirror_mode": {
    "name": "ipython",
    "version": 3
   },
   "file_extension": ".py",
   "mimetype": "text/x-python",
   "name": "python",
   "nbconvert_exporter": "python",
   "pygments_lexer": "ipython3",
   "version": "3.10.12"
  }
 },
 "nbformat": 4,
 "nbformat_minor": 5
}
