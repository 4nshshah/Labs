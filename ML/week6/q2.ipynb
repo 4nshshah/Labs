{
 "cells": [
  {
   "cell_type": "code",
   "execution_count": 201,
   "id": "fd9d481f",
   "metadata": {},
   "outputs": [],
   "source": [
    "import pandas as pd\n",
    "import numpy as np\n",
    "import matplotlib.pyplot as plt\n",
    "import random\n",
    "%matplotlib inline"
   ]
  },
  {
   "cell_type": "code",
   "execution_count": 202,
   "id": "dac0831d",
   "metadata": {},
   "outputs": [],
   "source": [
    "def cost(actual, predicted):\n",
    "    return np.sum(np.square(actual-predicted))/2/len(actual)"
   ]
  },
  {
   "cell_type": "code",
   "execution_count": 203,
   "id": "ac403b85",
   "metadata": {},
   "outputs": [],
   "source": [
    "def gradients(x,y,predicted):\n",
    "    n = len(x)\n",
    "    w = -1*np.sum(y-predicted)/n\n",
    "    b = -1*np.sum((y-predicted)*x)/n\n",
    "    return w,b"
   ]
  },
  {
   "cell_type": "code",
   "execution_count": 204,
   "id": "638b8011",
   "metadata": {},
   "outputs": [],
   "source": [
    "def predict(x,weight,bias):\n",
    "    return weight*x+bias"
   ]
  },
  {
   "cell_type": "code",
   "execution_count": 205,
   "id": "bd615319",
   "metadata": {},
   "outputs": [],
   "source": [
    "def gradientDescent(x,y, epoch, alpha=0.1):\n",
    "    weight = []\n",
    "    biases = []\n",
    "    costs = []\n",
    "    theta = random.random()\n",
    "    bias = random.random()\n",
    "    for i in range(epoch):\n",
    "        predicted = predict(x,theta, bias)\n",
    "        error = cost(y,predicted)\n",
    "        delW, delB = gradients(x,y,predicted)\n",
    "        theta -= alpha*delW\n",
    "        bias -= alpha*delB\n",
    "        if i%5==0:\n",
    "            weight.append(theta)\n",
    "            biases.append(bias)\n",
    "            costs.append(error)\n",
    "    \n",
    "    return theta, bias, weight, biases, costs"
   ]
  },
  {
   "cell_type": "code",
   "execution_count": 206,
   "id": "32792634",
   "metadata": {},
   "outputs": [],
   "source": [
    "data = pd.read_csv(\"../../datasets/salary.csv\")\n",
    "x = np.array(data['experience'])\n",
    "y = np.array(data['salary'])"
   ]
  },
  {
   "cell_type": "code",
   "execution_count": 207,
   "id": "fb1f8a6c",
   "metadata": {},
   "outputs": [],
   "source": [
    "from sklearn.model_selection import train_test_split as tts\n",
    "xtrain, xtest, ytrain, ytest = tts(x,y)"
   ]
  },
  {
   "cell_type": "code",
   "execution_count": 216,
   "id": "b5233a7d",
   "metadata": {},
   "outputs": [],
   "source": [
    "weight, bias, weights, biases, errors = gradientDescent(xtrain, ytrain ,60, alpha = 0.01)"
   ]
  },
  {
   "cell_type": "code",
   "execution_count": 217,
   "id": "bb843679",
   "metadata": {},
   "outputs": [
    {
     "data": {
      "text/plain": [
       "Text(0, 0.5, 'Error')"
      ]
     },
     "execution_count": 217,
     "metadata": {},
     "output_type": "execute_result"
    },
    {
     "data": {
      "image/png": "[encoded data removed]",
      "text/plain": [
       "<Figure size 432x288 with 1 Axes>"
      ]
     },
     "metadata": {
      "needs_background": "light"
     },
     "output_type": "display_data"
    }
   ],
   "source": [
    "plt.plot(errors)\n",
    "plt.xlabel(\"Epoch\")\n",
    "plt.ylabel(\"Error\")"
   ]
  },
  {
   "cell_type": "code",
   "execution_count": 210,
   "id": "3d8e73d2",
   "metadata": {},
   "outputs": [],
   "source": [
    "from sklearn.linear_model import SGDRegressor as lr\n",
    "model = lr( alpha = 0.01)\n",
    "mw, mb, me = [],[],[]\n",
    "for i in range(60):\n",
    "    model.partial_fit(np.array(xtrain).reshape(-1,1), np.array(ytrain).reshape(-1,1).ravel())\n",
    "    if i%5==0:\n",
    "        mw.append(model.coef_[0])\n",
    "        mb.append(model.intercept_[0])\n",
    "        me.append(cost(ytest, model.predict(xtest.reshape(-1,1))))"
   ]
  },
  {
   "cell_type": "code",
   "execution_count": 211,
   "id": "22dfb7b6",
   "metadata": {},
   "outputs": [
    {
     "name": "stdout",
     "output_type": "stream",
     "text": [
      "[0.6778794808719213, 1.324140037579534, 1.4217173319231664, 1.4432782879693635, 1.451625182883851, 1.4551828885755975, 1.4585349146846718, 1.4596854482547572, 1.460785909179733, 1.4631039025748083, 1.4632368065736852, 1.4662495014727999]\n",
      "\n",
      "Bias:\n",
      "\n",
      "[0.2147985780301706, 0.4143368148594108, 0.4376192835659985, 0.43681575405627987, 0.4323461141976636, 0.4267642867642444, 0.4215029959320903, 0.41583483169272883, 0.4103745415350655, 0.4055455915652018, 0.40024129743270864, 0.396118920720012]\n",
      "\n",
      "Error:\n",
      "\n",
      "[2.4828626132734843, 0.10412045945220315, 0.16504097450579905, 0.19026529259788627, 0.19930941968432528, 0.20160482485245854, 0.20380122735879969, 0.20276235294402803, 0.201757086664629, 0.20273408996065645, 0.20046983726053794, 0.20273901979448097]\n"
     ]
    }
   ],
   "source": [
    "print(mw, end ='\\n')\n",
    "print(\"\\nBias:\\n\")\n",
    "print(mb, end = '\\n')\n",
    "print(\"\\nError:\\n\")\n",
    "print(me, end = '\\n')"
   ]
  },
  {
   "cell_type": "code",
   "execution_count": 212,
   "id": "9ae0dce4",
   "metadata": {},
   "outputs": [
    {
     "data": {
      "text/plain": [
       "[<matplotlib.lines.Line2D at 0x7efe40c49450>]"
      ]
     },
     "execution_count": 212,
     "metadata": {},
     "output_type": "execute_result"
    },
    {
     "data": {
      "image/png": "[encoded data removed]",
      "text/plain": [
       "<Figure size 432x288 with 1 Axes>"
      ]
     },
     "metadata": {
      "needs_background": "light"
     },
     "output_type": "display_data"
    }
   ],
   "source": [
    "plt.plot(me, label = 'sklearn')"
   ]
  },
  {
   "cell_type": "code",
   "execution_count": 213,
   "id": "f9d9f46a",
   "metadata": {},
   "outputs": [
    {
     "data": {
      "text/plain": [
       "<matplotlib.legend.Legend at 0x7efe40c49bd0>"
      ]
     },
     "execution_count": 213,
     "metadata": {},
     "output_type": "execute_result"
    },
    {
     "data": {
      "image/png": "[encoded data removed]",
      "text/plain": [
       "<Figure size 432x288 with 1 Axes>"
      ]
     },
     "metadata": {
      "needs_background": "light"
     },
     "output_type": "display_data"
    }
   ],
   "source": [
    "plt.plot(me, label = 'sklearn')\n",
    "plt.plot(errors, label = 'manual')\n",
    "plt.legend()"
   ]
  },
  {
   "cell_type": "code",
   "execution_count": null,
   "id": "5064c7df",
   "metadata": {},
   "outputs": [],
   "source": []
  },
  {
   "cell_type": "code",
   "execution_count": null,
   "id": "76f7f3c3",
   "metadata": {},
   "outputs": [],
   "source": []
  },
  {
   "cell_type": "code",
   "execution_count": null,
   "id": "3a57a388",
   "metadata": {},
   "outputs": [],
   "source": []
  }
 ],
 "metadata": {
  "kernelspec": {
   "display_name": "Python 3 (ipykernel)",
   "language": "python",
   "name": "python3"
  },
  "language_info": {
   "codemirror_mode": {
    "name": "ipython",
    "version": 3
   },
   "file_extension": ".py",
   "mimetype": "text/x-python",
   "name": "python",
   "nbconvert_exporter": "python",
   "pygments_lexer": "ipython3",
   "version": "3.10.12"
  }
 },
 "nbformat": 4,
 "nbformat_minor": 5
}
