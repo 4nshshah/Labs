{
 "cells": [
  {
   "cell_type": "code",
   "execution_count": 60,
   "id": "4d6c9e02",
   "metadata": {},
   "outputs": [],
   "source": [
    "import numpy as np"
   ]
  },
  {
   "cell_type": "code",
   "execution_count": 61,
   "id": "1d6c2080",
   "metadata": {},
   "outputs": [],
   "source": [
    "def bayes(pab, pb, probs):\n",
    "    return pab*pb/np.sum(probs)\n",
    "    "
   ]
  },
  {
   "cell_type": "code",
   "execution_count": 62,
   "id": "1dec7121",
   "metadata": {},
   "outputs": [],
   "source": [
    "hostel = 0.6\n",
    "day = 0.4\n",
    "hostelA = 0.3\n",
    "dayA = 0.2\n",
    "residence = np.array([hostel, day])\n",
    "gradeProb = np.array([hostelA, dayA])"
   ]
  },
  {
   "cell_type": "code",
   "execution_count": 63,
   "id": "365f0479",
   "metadata": {},
   "outputs": [],
   "source": [
    "aHostel = bayes(hostelA, hostel, residence*gradeProb)"
   ]
  },
  {
   "cell_type": "code",
   "execution_count": 64,
   "id": "317a3825",
   "metadata": {},
   "outputs": [
    {
     "name": "stdout",
     "output_type": "stream",
     "text": [
      "0.6923076923076923\n"
     ]
    }
   ],
   "source": [
    "print(aHostel)"
   ]
  },
  {
   "cell_type": "code",
   "execution_count": 65,
   "id": "5a749247",
   "metadata": {},
   "outputs": [],
   "source": [
    "disease = 0.01\n",
    "tp = 0.99\n",
    "fp = 0.02\n",
    "disProb = np.array([tp,fp])"
   ]
  },
  {
   "cell_type": "code",
   "execution_count": 66,
   "id": "ef4cd962",
   "metadata": {},
   "outputs": [],
   "source": [
    "dt = bayes(tp, disease, disease*disProb)"
   ]
  },
  {
   "cell_type": "code",
   "execution_count": 67,
   "id": "6189c798",
   "metadata": {},
   "outputs": [
    {
     "name": "stdout",
     "output_type": "stream",
     "text": [
      "0.9801980198019802\n"
     ]
    }
   ],
   "source": [
    "print(dt)"
   ]
  },
  {
   "cell_type": "code",
   "execution_count": null,
   "id": "f29cefb6",
   "metadata": {},
   "outputs": [],
   "source": []
  }
 ],
 "metadata": {
  "kernelspec": {
   "display_name": "Python 3 (ipykernel)",
   "language": "python",
   "name": "python3"
  },
  "language_info": {
   "codemirror_mode": {
    "name": "ipython",
    "version": 3
   },
   "file_extension": ".py",
   "mimetype": "text/x-python",
   "name": "python",
   "nbconvert_exporter": "python",
   "pygments_lexer": "ipython3",
   "version": "3.10.12"
  }
 },
 "nbformat": 4,
 "nbformat_minor": 5
}
