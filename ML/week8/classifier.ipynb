{
 "cells": [
  {
   "cell_type": "code",
   "execution_count": 161,
   "id": "0ea12cb6",
   "metadata": {},
   "outputs": [],
   "source": [
    "import pandas as pd\n",
    "import numpy as np\n"
   ]
  },
  {
   "cell_type": "code",
   "execution_count": 162,
   "id": "3736a5df",
   "metadata": {},
   "outputs": [],
   "source": [
    "df= pd.read_csv(\"../datasets/play.csv\")"
   ]
  },
  {
   "cell_type": "code",
   "execution_count": 163,
   "id": "906852d8",
   "metadata": {},
   "outputs": [],
   "source": [
    "df = df.sample(frac=1).reset_index(drop=True)"
   ]
  },
  {
   "cell_type": "code",
   "execution_count": 164,
   "id": "5117b71c",
   "metadata": {},
   "outputs": [],
   "source": [
    "data = df[:10]\n",
    "test = df[10:]\n",
    "# data = df\n"
   ]
  },
  {
   "cell_type": "code",
   "execution_count": 165,
   "id": "04272fb9",
   "metadata": {},
   "outputs": [],
   "source": [
    "rainy, sunny, overcast, yes, no = 0,0,0,0,0\n",
    "ry, rn, sy, sn, oy, on = 0,0,0,0,0,0\n",
    "length = len(data)\n",
    "for i in range(length):\n",
    "    if data['outlook'][i]=='rainy':\n",
    "        rainy+=1\n",
    "        if data['play'][i] == 'yes':\n",
    "            ry +=1\n",
    "        else:\n",
    "            rn+=1\n",
    "    if data['outlook'][i]=='sunny':\n",
    "        sunny+=1\n",
    "        if data['play'][i] == 'yes':\n",
    "            sy +=1\n",
    "        else:\n",
    "            sn+=1\n",
    "            \n",
    "    if data['outlook'][i]=='overcast':\n",
    "        overcast +=1\n",
    "        if data['play'][i] == 'yes':\n",
    "            oy +=1\n",
    "        else:\n",
    "            on+=1\n",
    "    if data['play'][i] == 'yes':\n",
    "        yes +=1\n",
    "    else:\n",
    "        no += 1\n"
   ]
  },
  {
   "cell_type": "markdown",
   "id": "e4241419",
   "metadata": {},
   "source": [
    "### Bayes theorem"
   ]
  },
  {
   "cell_type": "code",
   "execution_count": 177,
   "id": "041c039f",
   "metadata": {},
   "outputs": [],
   "source": [
    "sunnyoveryes = sy/yes\n",
    "rainyoveryes = ry/yes\n",
    "overoveryes = oy/yes\n",
    "\n",
    "yesRainy = rainyoveryes*yes/rainy\n",
    "yesSunny = sunnyoveryes*yes/sunny\n",
    "yesOver = overoveryes*yes/overcast"
   ]
  },
  {
   "cell_type": "code",
   "execution_count": 178,
   "id": "0eb1bdb9",
   "metadata": {},
   "outputs": [
    {
     "data": {
      "text/plain": [
       "0.6666666666666666"
      ]
     },
     "execution_count": 178,
     "metadata": {},
     "output_type": "execute_result"
    }
   ],
   "source": [
    "yesRainy"
   ]
  },
  {
   "cell_type": "code",
   "execution_count": 179,
   "id": "a98d2e9c",
   "metadata": {},
   "outputs": [
    {
     "data": {
      "text/plain": [
       "0.5"
      ]
     },
     "execution_count": 179,
     "metadata": {},
     "output_type": "execute_result"
    }
   ],
   "source": [
    "yesSunny"
   ]
  },
  {
   "cell_type": "code",
   "execution_count": 180,
   "id": "4995a96e",
   "metadata": {},
   "outputs": [
    {
     "data": {
      "text/plain": [
       "1.0"
      ]
     },
     "execution_count": 180,
     "metadata": {},
     "output_type": "execute_result"
    }
   ],
   "source": [
    "yesOver"
   ]
  },
  {
   "cell_type": "code",
   "execution_count": 181,
   "id": "82beab8b",
   "metadata": {},
   "outputs": [],
   "source": [
    "probs = {'rainy':yesRainy, 'sunny':yesSunny, 'overcast':yesOver}"
   ]
  },
  {
   "cell_type": "code",
   "execution_count": 182,
   "id": "cf358eaf",
   "metadata": {},
   "outputs": [
    {
     "data": {
      "text/html": [
       "<div>\n",
       "<style scoped>\n",
       "    .dataframe tbody tr th:only-of-type {\n",
       "        vertical-align: middle;\n",
       "    }\n",
       "\n",
       "    .dataframe tbody tr th {\n",
       "        vertical-align: top;\n",
       "    }\n",
       "\n",
       "    .dataframe thead th {\n",
       "        text-align: right;\n",
       "    }\n",
       "</style>\n",
       "<table border=\"1\" class=\"dataframe\">\n",
       "  <thead>\n",
       "    <tr style=\"text-align: right;\">\n",
       "      <th></th>\n",
       "      <th>outlook</th>\n",
       "      <th>play</th>\n",
       "    </tr>\n",
       "  </thead>\n",
       "  <tbody>\n",
       "    <tr>\n",
       "      <th>10</th>\n",
       "      <td>overcast</td>\n",
       "      <td>yes</td>\n",
       "    </tr>\n",
       "    <tr>\n",
       "      <th>11</th>\n",
       "      <td>rainy</td>\n",
       "      <td>no</td>\n",
       "    </tr>\n",
       "    <tr>\n",
       "      <th>12</th>\n",
       "      <td>sunny</td>\n",
       "      <td>yes</td>\n",
       "    </tr>\n",
       "    <tr>\n",
       "      <th>13</th>\n",
       "      <td>overcast</td>\n",
       "      <td>yes</td>\n",
       "    </tr>\n",
       "  </tbody>\n",
       "</table>\n",
       "</div>"
      ],
      "text/plain": [
       "     outlook play\n",
       "10  overcast  yes\n",
       "11     rainy   no\n",
       "12     sunny  yes\n",
       "13  overcast  yes"
      ]
     },
     "execution_count": 182,
     "metadata": {},
     "output_type": "execute_result"
    }
   ],
   "source": [
    "test"
   ]
  },
  {
   "cell_type": "code",
   "execution_count": 183,
   "id": "84e66a08",
   "metadata": {},
   "outputs": [],
   "source": [
    "tp, tn, fp, fn = 0,0,0,0\n",
    "for i in range(10, 10+len(test)):\n",
    "    if probs[test['outlook'][i]]>=0.5 and test['play'][i] == 'yes':\n",
    "        tp+=1\n",
    "    elif probs[test['outlook'][i]]>=0.5 and test['play'][i] == 'no':\n",
    "        fp+=1\n",
    "    elif probs[test['outlook'][i]]<0.5 and test['play'][i] == 'no':\n",
    "        tn+=1\n",
    "    elif probs[test['outlook'][i]]<0.5 and test['play'][i] == 'yes':\n",
    "        fn+=1\n",
    "    \n"
   ]
  },
  {
   "cell_type": "code",
   "execution_count": 184,
   "id": "fa2db8ab",
   "metadata": {},
   "outputs": [],
   "source": [
    "precision = tp/(tp+fp)"
   ]
  },
  {
   "cell_type": "code",
   "execution_count": 185,
   "id": "cd6c0816",
   "metadata": {},
   "outputs": [],
   "source": [
    "recall = tp/(tp+fn)"
   ]
  },
  {
   "cell_type": "code",
   "execution_count": 186,
   "id": "df813bb6",
   "metadata": {},
   "outputs": [],
   "source": [
    "accuracy = (tp+tn)/(tp+tn+fp+fn)"
   ]
  },
  {
   "cell_type": "code",
   "execution_count": 187,
   "id": "c48d4e66",
   "metadata": {},
   "outputs": [
    {
     "name": "stdout",
     "output_type": "stream",
     "text": [
      "0.75 0.75 1.0\n"
     ]
    }
   ],
   "source": [
    "print(accuracy, precision, recall)"
   ]
  },
  {
   "cell_type": "code",
   "execution_count": null,
   "id": "6a653566",
   "metadata": {},
   "outputs": [],
   "source": []
  },
  {
   "cell_type": "code",
   "execution_count": null,
   "id": "4829fa36",
   "metadata": {},
   "outputs": [],
   "source": []
  }
 ],
 "metadata": {
  "kernelspec": {
   "display_name": "Python 3 (ipykernel)",
   "language": "python",
   "name": "python3"
  },
  "language_info": {
   "codemirror_mode": {
    "name": "ipython",
    "version": 3
   },
   "file_extension": ".py",
   "mimetype": "text/x-python",
   "name": "python",
   "nbconvert_exporter": "python",
   "pygments_lexer": "ipython3",
   "version": "3.10.12"
  }
 },
 "nbformat": 4,
 "nbformat_minor": 5
}
