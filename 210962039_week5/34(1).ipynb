{
 "cells": [
  {
   "cell_type": "code",
   "execution_count": 217,
   "id": "9ffd42d8-7ca3-4b94-9296-adbba9fdc0c5",
   "metadata": {},
   "outputs": [],
   "source": [
    "import torch\n",
    "import matplotlib.pyplot as plt\n",
    "from torch import nn\n",
    "import torchvision\n",
    "import torchvision.transforms as transforms"
   ]
  },
  {
   "cell_type": "code",
   "execution_count": 218,
   "id": "c661f5d0-f744-40d7-a18b-bccbf858048c",
   "metadata": {},
   "outputs": [],
   "source": [
    "input_size = 784 # 28x28\n",
    "hidden_size = 500 \n",
    "num_classes = 10\n",
    "num_epochs = 2\n",
    "batch_size = 100\n",
    "learning_rate = 0.001"
   ]
  },
  {
   "cell_type": "code",
   "execution_count": 219,
   "id": "5b8d72ca-2340-463b-8b55-feec2435b4c4",
   "metadata": {},
   "outputs": [],
   "source": [
    "device = torch.device('cuda' if torch.cuda.is_available() else 'cpu')"
   ]
  },
  {
   "cell_type": "code",
   "execution_count": 220,
   "id": "3a61bc0c-ce71-4f59-8aac-396423e12dec",
   "metadata": {},
   "outputs": [],
   "source": [
    "class CNN(nn.Module):\n",
    "    def __init__(self):\n",
    "        super().__init__()\n",
    "        self.net = nn.Sequential(\n",
    "        nn.Conv2d(1,64,kernel_size=3, padding = 1),\n",
    "        nn.MaxPool2d((2,2), stride = 2),\n",
    "        nn.Conv2d(64,128,kernel_size=3, padding = 1),\n",
    "        nn.MaxPool2d((2,2), stride = 2),\n",
    "        nn.Conv2d(128,64,kernel_size=3, padding = 1),\n",
    "        nn.MaxPool2d((2,2), stride = 2),\n",
    "        nn.ReLU(),\n",
    "        nn.MaxPool2d((2,2), stride = 2))\n",
    "        self.nn = nn.Sequential(nn.Linear(64,20,bias = True),\n",
    "                               nn.ReLU(),\n",
    "                               nn.Linear(20,10,bias = True))\n",
    "    def forward(self, x):\n",
    "        output = self.net(x)\n",
    "        return self.nn(output.view(100,-1))"
   ]
  },
  {
   "cell_type": "code",
   "execution_count": 221,
   "id": "fdd8a3ff-0289-49ba-9307-577d291dbb0a",
   "metadata": {},
   "outputs": [],
   "source": [
    "# Import MNIST dataset \n",
    "train_dataset = torchvision.datasets.MNIST(root='./data', \n",
    "                                           train=True, \n",
    "                                           transform=transforms.ToTensor(),  \n",
    "                                           download=True)\n",
    "\n",
    "test_dataset = torchvision.datasets.MNIST(root='./data', \n",
    "                                          train=False, \n",
    "                                          transform=transforms.ToTensor())"
   ]
  },
  {
   "cell_type": "code",
   "execution_count": 222,
   "id": "b3554974-024a-4d62-a47f-589f191c4c52",
   "metadata": {},
   "outputs": [],
   "source": [
    "# Data loader\n",
    "train_loader = torch.utils.data.DataLoader(dataset=train_dataset, \n",
    "                                           batch_size=batch_size, \n",
    "                                           shuffle=True)\n",
    "\n",
    "test_loader = torch.utils.data.DataLoader(dataset=test_dataset, \n",
    "                                          batch_size=batch_size, \n",
    "                                          shuffle=False)\n"
   ]
  },
  {
   "cell_type": "code",
   "execution_count": 223,
   "id": "102a4516-964b-4a10-95e8-8843d0718628",
   "metadata": {},
   "outputs": [],
   "source": [
    "model = CNN().to(device)"
   ]
  },
  {
   "cell_type": "code",
   "execution_count": 224,
   "id": "1886fee0-35be-46ca-b206-079f6769e9e4",
   "metadata": {},
   "outputs": [],
   "source": [
    "# Loss and optimizer\n",
    "criterion = nn.CrossEntropyLoss()\n",
    "optimizer = torch.optim.Adam(model.parameters(), lr=learning_rate)"
   ]
  },
  {
   "cell_type": "code",
   "execution_count": 225,
   "id": "86d5184d-0b83-43de-bf30-0e08a25d4733",
   "metadata": {},
   "outputs": [],
   "source": [
    "# Train the model\n",
    "def trainModel(model, num_epochs,train_loader,optimizer):\n",
    "    n_total_steps = len(train_loader)\n",
    "    for epoch in range(num_epochs):\n",
    "        for i, (images, labels) in enumerate(train_loader):  \n",
    "            images = images.to(device)\n",
    "            labels = labels.to(device)\n",
    "    \n",
    "            # Forward pass\n",
    "            outputs = model(images)\n",
    "            loss = criterion(outputs, labels)\n",
    "    \n",
    "            # Backward and optimize\n",
    "            optimizer.zero_grad()\n",
    "            loss.backward()\n",
    "            optimizer.step()\n",
    "    \n",
    "            if (i+1) % 100 == 0:\n",
    "                print (f'Epoch [{epoch+1}/{num_epochs}], Step [{i+1}/{n_total_steps}], Loss: {loss.item():.4f}')"
   ]
  },
  {
   "cell_type": "code",
   "execution_count": 226,
   "id": "3fb94337-c24d-4c83-9976-79f65f756382",
   "metadata": {},
   "outputs": [
    {
     "name": "stdout",
     "output_type": "stream",
     "text": [
      "Epoch [1/1], Step [100/600], Loss: 0.6053\n",
      "Epoch [1/1], Step [200/600], Loss: 0.2072\n",
      "Epoch [1/1], Step [300/600], Loss: 0.1564\n",
      "Epoch [1/1], Step [400/600], Loss: 0.1168\n",
      "Epoch [1/1], Step [500/600], Loss: 0.1121\n",
      "Epoch [1/1], Step [600/600], Loss: 0.0516\n"
     ]
    }
   ],
   "source": [
    "trainModel(model,1, train_loader, optimizer)"
   ]
  },
  {
   "cell_type": "code",
   "execution_count": 230,
   "id": "90d6fe82-9793-41c0-ba91-ef69329adc35",
   "metadata": {},
   "outputs": [],
   "source": [
    "class CNN2(nn.Module):\n",
    "    def __init__(self):\n",
    "        super().__init__()\n",
    "        self.net = nn.Sequential(\n",
    "        nn.Conv2d(1,32,kernel_size=3, padding = 1),\n",
    "        nn.MaxPool2d((2,2), stride = 2),\n",
    "        nn.Conv2d(32,64,kernel_size=3, padding = 1),\n",
    "        nn.MaxPool2d((2,2), stride = 2),\n",
    "        nn.Conv2d(64,32,kernel_size=3, padding = 1),\n",
    "        nn.MaxPool2d((2,2), stride = 2),\n",
    "        nn.ReLU(),\n",
    "        nn.MaxPool2d((2,2), stride = 2))\n",
    "        self.nn = nn.Sequential(nn.Linear(32,20,bias = True),\n",
    "                               nn.ReLU(),\n",
    "                               nn.Linear(20,10,bias = True))\n",
    "    def forward(self, x):\n",
    "        output = self.net(x)\n",
    "        return self.nn(output.view(100,-1))"
   ]
  },
  {
   "cell_type": "code",
   "execution_count": 231,
   "id": "34b6642c-21b8-4016-9f08-150ec06d2a4d",
   "metadata": {},
   "outputs": [],
   "source": [
    "class CNN3(nn.Module):\n",
    "    def __init__(self):\n",
    "        super().__init__()\n",
    "        self.net = nn.Sequential(\n",
    "        nn.Conv2d(1,16,kernel_size=3, padding = 1),\n",
    "        nn.MaxPool2d((2,2), stride = 2),\n",
    "        nn.Conv2d(16,32,kernel_size=3, padding = 1),\n",
    "        nn.MaxPool2d((2,2), stride = 2),\n",
    "        nn.Conv2d(32,16,kernel_size=3, padding = 1),\n",
    "        nn.MaxPool2d((2,2), stride = 2),\n",
    "        nn.ReLU(),\n",
    "        nn.MaxPool2d((2,2), stride = 2))\n",
    "        self.nn = nn.Sequential(nn.Linear(16,20,bias = True),\n",
    "                               nn.ReLU(),\n",
    "                               nn.Linear(20,10,bias = True))\n",
    "    def forward(self, x):\n",
    "        output = self.net(x)\n",
    "        return self.nn(output.view(100,-1))"
   ]
  },
  {
   "cell_type": "code",
   "execution_count": 232,
   "id": "16cca14e-e671-4446-8969-b2bdf378284d",
   "metadata": {},
   "outputs": [],
   "source": [
    "class CNN4(nn.Module):\n",
    "    def __init__(self):\n",
    "        super().__init__()\n",
    "        self.net = nn.Sequential(\n",
    "        nn.Conv2d(1,64,kernel_size=3, padding = 2),\n",
    "        nn.MaxPool2d((2,2), stride = 2),\n",
    "        nn.Conv2d(64,128,kernel_size=3, padding = 2),\n",
    "        nn.MaxPool2d((2,2), stride = 2),\n",
    "        nn.Conv2d(128,256,kernel_size=3, padding = 2),\n",
    "        nn.MaxPool2d((2,2), stride = 2),\n",
    "        nn.Conv2d(256,128,kernel_size=3, padding = 2),\n",
    "        nn.MaxPool2d((2,2), stride = 2),\n",
    "        nn.Conv2d(128,64,kernel_size=3, padding = 2),\n",
    "        nn.MaxPool2d((2,2), stride = 2),\n",
    "        nn.ReLU(),\n",
    "        nn.MaxPool2d((2,2), stride = 2))\n",
    "        self.nn = nn.Sequential(nn.Linear(64,20,bias = True),\n",
    "                               nn.ReLU(),\n",
    "                               nn.Linear(20,10,bias = True))\n",
    "    def forward(self, x):\n",
    "        output = self.net(x)\n",
    "        return self.nn(output.view(100,-1))"
   ]
  },
  {
   "cell_type": "code",
   "execution_count": 233,
   "id": "29089036-3991-49cb-a45a-ce20108f6f97",
   "metadata": {},
   "outputs": [],
   "source": [
    "# Test the model\n",
    "# In test phase, we don't need to compute gradients (for memory efficiency)\n",
    "import sklearn\n",
    "from sklearn.metrics import confusion_matrix, ConfusionMatrixDisplay as cdm\n",
    "def test(model, test_loader):\n",
    "    with torch.no_grad():\n",
    "        total = 0\n",
    "        correct = 0\n",
    "        for images, labels in test_loader:\n",
    "            images = images.to(device)\n",
    "            labels = labels.to(device)\n",
    "            outputs = model(images)\n",
    "            _, predicted = torch.max(outputs.data, 1)\n",
    "            total += labels.size(0)\n",
    "            correct += (predicted == labels).sum().item()  \n",
    "    return correct/total"
   ]
  },
  {
   "cell_type": "code",
   "execution_count": 234,
   "id": "66f23fed-09f2-4327-8580-ee3f30789dd6",
   "metadata": {},
   "outputs": [],
   "source": [
    "# m1 = CNN().to(device)\n",
    "# m2 = CNN2().to(device)\n",
    "# m3 = CNN3().to(device)100.\n",
    "m4 = CNN4().to(device)\n",
    "\n",
    "# o1 = torch.optim.Adam(m1.parameters(), lr=learning_rate)\n",
    "# o2 = torch.optim.Adam(m2.parameters(), lr=learning_rate)\n",
    "# o3 = torch.optim.Adam(m3.parameters(), lr=learning_rate)\n",
    "o4 = torch.optim.Adam(m4.parameters(), lr=learning_rate)"
   ]
  },
  {
   "cell_type": "code",
   "execution_count": 235,
   "id": "a795e4ce-f095-4c3b-bacc-7693d619b16c",
   "metadata": {},
   "outputs": [
    {
     "name": "stdout",
     "output_type": "stream",
     "text": [
      "Epoch [1/2], Step [100/600], Loss: 0.3910\n",
      "Epoch [1/2], Step [200/600], Loss: 0.0561\n",
      "Epoch [1/2], Step [300/600], Loss: 0.0501\n",
      "Epoch [1/2], Step [400/600], Loss: 0.3216\n",
      "Epoch [1/2], Step [500/600], Loss: 0.0461\n",
      "Epoch [1/2], Step [600/600], Loss: 0.0274\n",
      "Epoch [2/2], Step [100/600], Loss: 0.0224\n",
      "Epoch [2/2], Step [200/600], Loss: 0.0297\n",
      "Epoch [2/2], Step [300/600], Loss: 0.0216\n",
      "Epoch [2/2], Step [400/600], Loss: 0.0675\n",
      "Epoch [2/2], Step [500/600], Loss: 0.0594\n",
      "Epoch [2/2], Step [600/600], Loss: 0.0364\n"
     ]
    }
   ],
   "source": [
    "#trainModel(m1,2, train_loader, o1)\n",
    "# trainModel(m2,2, train_loader, o2)\n",
    "# trainModel(m3,2, train_loader, o3)\n",
    "trainModel(m4,2, train_loader, o4)"
   ]
  },
  {
   "cell_type": "code",
   "execution_count": 236,
   "id": "76ed0a21-704c-4e0f-8681-fa7c8d6dd1e8",
   "metadata": {},
   "outputs": [],
   "source": [
    "torch.save(m4, '../models/MNIST.pt')"
   ]
  },
  {
   "cell_type": "code",
   "execution_count": 160,
   "id": "eddad5cf-c5e4-4ac5-b4a4-29bcce8793c1",
   "metadata": {},
   "outputs": [],
   "source": [
    "# m2a = test(m2,test_loader)\n",
    "# m3a = test(m3,test_loader)\n",
    "# m4a = test(m4,test_loader)\n",
    "# m1a = test(model,test_loader)"
   ]
  },
  {
   "cell_type": "code",
   "execution_count": 161,
   "id": "022ed11a-5a1d-44a2-9c2c-d7019e61c671",
   "metadata": {},
   "outputs": [],
   "source": [
    "def count_parameters(model):\n",
    "    return sum(p.numel() for p in model.parameters() if p.requires_grad)"
   ]
  },
  {
   "cell_type": "code",
   "execution_count": 212,
   "id": "1d8947a9-d9bd-4df7-9dc5-43b4cfd9898d",
   "metadata": {},
   "outputs": [],
   "source": [
    "m2p = count_parameters(m2)\n",
    "m3p = count_parameters(m3)\n",
    "m4p = count_parameters(m4)\n",
    "m1p = count_parameters(model)"
   ]
  },
  {
   "cell_type": "code",
   "execution_count": 237,
   "id": "7baa4b39-f052-4314-8e05-8a741483f2ea",
   "metadata": {},
   "outputs": [
    {
     "data": {
      "text/plain": [
       "(149798, 38150, 9974, 740006)"
      ]
     },
     "execution_count": 237,
     "metadata": {},
     "output_type": "execute_result"
    }
   ],
   "source": [
    "m1p,m2p,m3p,m4p"
   ]
  },
  {
   "cell_type": "code",
   "execution_count": 213,
   "id": "76236b10-0f16-46a4-82a7-9f8d53b593c8",
   "metadata": {},
   "outputs": [],
   "source": [
    "import numpy as np\n",
    "x = [m1p,m2p,m3p,m4p]\n"
   ]
  },
  {
   "cell_type": "code",
   "execution_count": 214,
   "id": "9013113e-a14c-4c1e-bb48-c7288b710891",
   "metadata": {},
   "outputs": [],
   "source": [
    "x = np.array(x)"
   ]
  },
  {
   "cell_type": "code",
   "execution_count": 215,
   "id": "34c0c89f-35d6-423f-8de5-f698ce10c160",
   "metadata": {},
   "outputs": [],
   "source": [
    "x=x / m1p *100"
   ]
  },
  {
   "cell_type": "code",
   "execution_count": 216,
   "id": "181458e4-51ff-4761-93ed-47c6811b09ca",
   "metadata": {},
   "outputs": [
    {
     "data": {
      "text/plain": [
       "Text(0, 0.5, 'Accuracy')"
      ]
     },
     "execution_count": 216,
     "metadata": {},
     "output_type": "execute_result"
    },
    {
     "data": {
      "image/png": "[encoded data removed]",
      "text/plain": [
       "<Figure size 640x480 with 1 Axes>"
      ]
     },
     "metadata": {},
     "output_type": "display_data"
    }
   ],
   "source": [
    "y = np.array([m1a, m2a, m3a, m4a])\n",
    "plt.scatter(x,y)\n",
    "plt.xlabel(\"percentage of parameters\")\n",
    "plt.ylabel(\"Accuracy\")"
   ]
  },
  {
   "cell_type": "code",
   "execution_count": 167,
   "id": "80b7e367-95f3-4413-b9a8-83c4f1c03821",
   "metadata": {},
   "outputs": [
    {
     "data": {
      "text/plain": [
       "array([0.9811, 0.9639, 0.9548, 0.9841])"
      ]
     },
     "execution_count": 167,
     "metadata": {},
     "output_type": "execute_result"
    }
   ],
   "source": [
    "y"
   ]
  },
  {
   "cell_type": "code",
   "execution_count": 159,
   "id": "c9c8c6be-d584-488d-bf13-5468f54b1f5c",
   "metadata": {},
   "outputs": [
    {
     "data": {
      "text/plain": [
       "array([149798, 111648, 139824, 590208])"
      ]
     },
     "execution_count": 159,
     "metadata": {},
     "output_type": "execute_result"
    }
   ],
   "source": [
    "x"
   ]
  },
  {
   "cell_type": "code",
   "execution_count": 201,
   "id": "5750904a-1cc7-4143-87a8-198caf77ae03",
   "metadata": {},
   "outputs": [],
   "source": [
    "# Test the model\n",
    "# In test phase, we don't need to compute gradients (for memory efficiency)\n",
    "import sklearn\n",
    "from sklearn.metrics import confusion_matrix, ConfusionMatrixDisplay as cdm\n",
    "def cc(model, test_loader):\n",
    "    with torch.no_grad():\n",
    "        final = torch.tensor([]).to(device)\n",
    "        all = torch.tensor([]).to(device)\n",
    "        for images, labels in test_loader:\n",
    "            images = images.to(device)\n",
    "            labels = labels.to(device)\n",
    "            outputs = model(images)\n",
    "            _, predicted = torch.max(outputs.data, 1)\n",
    "            final = torch.concat((final, predicted))\n",
    "            all = torch.concat((all, labels))\n",
    "        cm = confusion_matrix(final.cpu(), all.cpu())\n",
    "        cdm(cm).plot()\n",
    "    return final"
   ]
  },
  {
   "cell_type": "code",
   "execution_count": 202,
   "id": "8da39018-74a0-43f7-858e-a0e61ecfdde6",
   "metadata": {},
   "outputs": [
    {
     "data": {
      "text/plain": [
       "tensor([7., 2., 1.,  ..., 4., 5., 6.], device='cuda:0')"
      ]
     },
     "execution_count": 202,
     "metadata": {},
     "output_type": "execute_result"
    },
    {
     "data": {
      "image/png": "[encoded data removed]",
      "text/plain": [
       "<Figure size 640x480 with 2 Axes>"
      ]
     },
     "metadata": {},
     "output_type": "display_data"
    }
   ],
   "source": [
    "cc(model, test_loader)"
   ]
  },
  {
   "cell_type": "code",
   "execution_count": null,
   "id": "a20588f4-6d34-4d0e-a438-e01efec4bb98",
   "metadata": {},
   "outputs": [],
   "source": []
  },
  {
   "cell_type": "code",
   "execution_count": null,
   "id": "74604f92-bfc7-40e7-a722-7177805a70db",
   "metadata": {},
   "outputs": [],
   "source": []
  }
 ],
 "metadata": {
  "kernelspec": {
   "display_name": "Python 3 (ipykernel)",
   "language": "python",
   "name": "python3"
  },
  "language_info": {
   "codemirror_mode": {
    "name": "ipython",
    "version": 3
   },
   "file_extension": ".py",
   "mimetype": "text/x-python",
   "name": "python",
   "nbconvert_exporter": "python",
   "pygments_lexer": "ipython3",
   "version": "3.11.7"
  }
 },
 "nbformat": 4,
 "nbformat_minor": 5
}
