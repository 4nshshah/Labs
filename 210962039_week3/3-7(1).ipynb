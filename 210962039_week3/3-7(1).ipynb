{
 "cells": [
  {
   "cell_type": "code",
   "execution_count": 45,
   "id": "9c1dd156-b16e-43eb-9b77-0ac4daa7751f",
   "metadata": {},
   "outputs": [],
   "source": [
    "import torch\n",
    "import torch.nn as nn\n",
    "import matplotlib.pyplot as plt"
   ]
  },
  {
   "cell_type": "code",
   "execution_count": 38,
   "id": "5e3e42f1-9639-49e3-a24f-06ef7a7118c8",
   "metadata": {},
   "outputs": [],
   "source": [
    "class RegressionModel:\n",
    "    def __init__(self):\n",
    "        self.w = torch.rand([1], requires_grad = True)\n",
    "        self.b  = torch.rand([1], requires_grad = True)\n",
    "        self.lr = torch.tensor(0.001)\n",
    "    def forward(self, x):\n",
    "        return self.w*x + self.b\n",
    "    def update(self):\n",
    "        self.w -=self.lr*self.w.grad\n",
    "        self.b -= self.lr*self.b.grad\n",
    "    def reset(self):\n",
    "        self.w.grad.zero_()\n",
    "        self.b.grad.zero_()"
   ]
  },
  {
   "cell_type": "code",
   "execution_count": 39,
   "id": "e1e44934-92ca-4a2e-97bc-fad9bbab223b",
   "metadata": {},
   "outputs": [],
   "source": [
    "def losse(y,p):\n",
    "    return(y-p)**2"
   ]
  },
  {
   "cell_type": "code",
   "execution_count": 40,
   "id": "aaa75c31-3f7f-4fd7-ab7f-8934e3ad31c3",
   "metadata": {},
   "outputs": [],
   "source": [
    "x = torch.tensor([5.0,7.0,12.0,16.0,20.0])\n",
    "y = torch.tensor([40.0,120.0,180.0,210.0,240.0])"
   ]
  },
  {
   "cell_type": "code",
   "execution_count": 41,
   "id": "a9cfba75-3de1-404b-9e7b-41a774929692",
   "metadata": {},
   "outputs": [],
   "source": [
    "model = RegressionModel()\n",
    "losses = []\n",
    "for epochs in range(100):\n",
    "    loss = 0.0\n",
    "    for i in range(len(x)):\n",
    "        loss += losse(y[i], model.forward(x[i]))\n",
    "    loss/=len(x)\n",
    "    losses.append(loss.item())\n",
    "    loss.backward()\n",
    "    with torch.no_grad():\n",
    "        model.update()\n",
    "    model.reset()\n",
    "    "
   ]
  },
  {
   "cell_type": "code",
   "execution_count": 42,
   "id": "7d5923e9-a0dd-4bd2-a822-02bb05881161",
   "metadata": {},
   "outputs": [
    {
     "data": {
      "text/plain": [
       "[<matplotlib.lines.Line2D at 0x7efe99d17f90>]"
      ]
     },
     "execution_count": 42,
     "metadata": {},
     "output_type": "execute_result"
    },
    {
     "data": {
      "image/png": "[encoded data removed]",
      "text/plain": [
       "<Figure size 640x480 with 1 Axes>"
      ]
     },
     "metadata": {},
     "output_type": "display_data"
    }
   ],
   "source": [
    "plt.plot(losses)"
   ]
  },
  {
   "cell_type": "code",
   "execution_count": 53,
   "id": "2c6d449d-616b-4714-8241-c418e4eec820",
   "metadata": {},
   "outputs": [
    {
     "name": "stdout",
     "output_type": "stream",
     "text": [
      "[tensor([16.,  7., 20.,  5.]), tensor([210., 120., 240.,  40.])]\n",
      "[tensor([12.]), tensor([180.])]\n",
      "tensor(0., grad_fn=<MulBackward0>)\n"
     ]
    }
   ],
   "source": [
    "from torch.utils.data import Dataset, DataLoader\n",
    "class regression(nn.Module):\n",
    "    def __init__(self):\n",
    "        super().__init__()\n",
    "        self.w = nn.Parameter(torch.rand([1], requires_grad = True))\n",
    "        self.b = nn.Parameter(torch.rand([1], requires_grad = True))\n",
    "    def forward(self, x):\n",
    "        return self.w*x + self.b\n",
    "class dataset(Dataset):\n",
    "    def __init__(self, x, y):\n",
    "        self.x = x\n",
    "        self.y = y\n",
    "    def __len__(self):\n",
    "        return len(self.x)\n",
    "    def __getitem__(self, idx):\n",
    "        return self.x[idx], self.y[idx]\n",
    "\n",
    "d = dataset(x,y)\n",
    "dl = DataLoader(d, batch_size=4, shuffle = True)\n",
    "for data in iter(dl):\n",
    "    print(data)\n",
    "\n",
    "loss_fn = torch.nn.MSELoss()\n",
    "model = regression()\n",
    "optimizer = torch.optim.SGD(model.parameters(),lr = 0.003)\n",
    "for epochs in range(100):\n",
    "    loss = 0.0\n",
    "    for i,d in enumerate(dl):\n",
    "        inputs,labels = data\n",
    "        optimizer.zero_grad()\n",
    "        outputs = model(inputs)\n",
    "        loss = loss_fn(outputs,labels)\n",
    "        loss.backward()\n",
    "        optimizer.step()\n",
    "    loss += loss.item()\n",
    "    finalloss = loss/len(dl)*4\n",
    "\n",
    "print(finalloss)\n"
   ]
  },
  {
   "cell_type": "code",
   "execution_count": 55,
   "id": "2ce69ff0-06a1-485e-b1ec-69f533ca47a7",
   "metadata": {},
   "outputs": [
    {
     "name": "stdout",
     "output_type": "stream",
     "text": [
      "After 0 epochs, loss =271.77264404296875\n",
      "After 10 epochs, loss =9.994739684771048e-07\n",
      "After 20 epochs, loss =3.1634598911776945e-13\n",
      "After 30 epochs, loss =3.954324660684211e-13\n",
      "After 40 epochs, loss =3.954324660684211e-13\n",
      "After 50 epochs, loss =3.954324660684211e-13\n",
      "After 60 epochs, loss =3.954324660684211e-13\n",
      "After 70 epochs, loss =3.954324660684211e-13\n",
      "After 80 epochs, loss =3.954324660684211e-13\n",
      "After 90 epochs, loss =3.954324660684211e-13\n"
     ]
    }
   ],
   "source": [
    "import torch\n",
    "import numpy as np\n",
    "from torch.autograd import Variable\n",
    "\n",
    "x = Variable(torch.tensor([12.4,14.3,14.5,14.9,16.1,16.9,16.5,15.4,17.0,17.9,18.8,20.3,22.4,19.4,15.5,16.7,17.3,18.4,19.2,17.4,19.5,19.7,21.2]))\n",
    "y = Variable(torch.tensor([11.2,12.5,12.7,13.1,14.1,14.8,14.4,13.4,14.9,15.6,16.4,17.7,19.6,16.9,14.0,14.6,15.1,16.1,16.8,15.2,17.0,17.2,18.6]))\n",
    "\n",
    "class RegressionModel(torch.nn.Module):\n",
    "    def __init__(self):\n",
    "        super(RegressionModel, self).__init__()\n",
    "        self.linear = torch.nn.Linear(23, 23)\n",
    "        \n",
    "    def forward(self,x):\n",
    "        return self.linear(x)\n",
    "\n",
    "model = RegressionModel()\n",
    "criterion = torch.nn.MSELoss()\n",
    "optimizer = torch.optim.SGD(model.parameters(), lr = 0.001)\n",
    "\n",
    "for epochs in range(100):\n",
    "    pred_y = model(x)\n",
    "    loss = criterion(pred_y, y)\n",
    "    optimizer.zero_grad()\n",
    "    loss.backward()\n",
    "    optimizer.step()\n",
    "    if epochs%10==0:\n",
    "        print(\"After {} epochs, loss ={}\".format(epochs,loss.item()))"
   ]
  },
  {
   "cell_type": "code",
   "execution_count": 56,
   "id": "aa087d4f-7b94-441d-b06f-d461c204cf64",
   "metadata": {},
   "outputs": [
    {
     "name": "stdout",
     "output_type": "stream",
     "text": [
      "[tensor([3, 4]), tensor([8, 5]), tensor([-3.5000,  3.5000])]\n",
      "[tensor([6, 2]), tensor([3, 1]), tensor([11.5000,  5.7000])]\n",
      "[tensor([5]), tensor([7]), tensor([2.5000])]\n",
      "After 0 epochs, The parameters are w=Parameter containing:\n",
      "tensor([0.4716], requires_grad=True),b=Parameter containing:\n",
      "tensor([0.7832], requires_grad=True), and loss =Parameter containing:\n",
      "tensor([0.1754], requires_grad=True)\n",
      "After 10 epochs, The parameters are w=Parameter containing:\n",
      "tensor([0.6610], requires_grad=True),b=Parameter containing:\n",
      "tensor([0.0967], requires_grad=True), and loss =Parameter containing:\n",
      "tensor([0.1836], requires_grad=True)\n",
      "After 20 epochs, The parameters are w=Parameter containing:\n",
      "tensor([0.9859], requires_grad=True),b=Parameter containing:\n",
      "tensor([-0.2152], requires_grad=True), and loss =Parameter containing:\n",
      "tensor([0.2360], requires_grad=True)\n",
      "After 30 epochs, The parameters are w=Parameter containing:\n",
      "tensor([1.3037], requires_grad=True),b=Parameter containing:\n",
      "tensor([-0.4092], requires_grad=True), and loss =Parameter containing:\n",
      "tensor([0.2908], requires_grad=True)\n",
      "After 40 epochs, The parameters are w=Parameter containing:\n",
      "tensor([1.5551], requires_grad=True),b=Parameter containing:\n",
      "tensor([-0.6451], requires_grad=True), and loss =Parameter containing:\n",
      "tensor([0.3288], requires_grad=True)\n",
      "After 50 epochs, The parameters are w=Parameter containing:\n",
      "tensor([1.7176], requires_grad=True),b=Parameter containing:\n",
      "tensor([-0.8466], requires_grad=True), and loss =Parameter containing:\n",
      "tensor([0.3611], requires_grad=True)\n",
      "After 60 epochs, The parameters are w=Parameter containing:\n",
      "tensor([1.8855], requires_grad=True),b=Parameter containing:\n",
      "tensor([-0.9611], requires_grad=True), and loss =Parameter containing:\n",
      "tensor([0.3966], requires_grad=True)\n",
      "After 70 epochs, The parameters are w=Parameter containing:\n",
      "tensor([2.0172], requires_grad=True),b=Parameter containing:\n",
      "tensor([-1.0600], requires_grad=True), and loss =Parameter containing:\n",
      "tensor([0.4285], requires_grad=True)\n",
      "After 80 epochs, The parameters are w=Parameter containing:\n",
      "tensor([2.1342], requires_grad=True),b=Parameter containing:\n",
      "tensor([-1.1460], requires_grad=True), and loss =Parameter containing:\n",
      "tensor([0.4575], requires_grad=True)\n",
      "After 90 epochs, The parameters are w=Parameter containing:\n",
      "tensor([2.2262], requires_grad=True),b=Parameter containing:\n",
      "tensor([-1.2129], requires_grad=True), and loss =Parameter containing:\n",
      "tensor([0.4823], requires_grad=True)\n",
      "tensor(0.9576, grad_fn=<MulBackward0>)\n"
     ]
    }
   ],
   "source": [
    "import torch\n",
    "from torch.utils.data import Dataset,DataLoader\n",
    "\n",
    "class MyDataset(Dataset):\n",
    "    def __init__(self,X1,X2,Y):\n",
    "        self.X1 = X1\n",
    "        self.X2 = X2\n",
    "        self.Y = Y\n",
    "    def __len__(self):\n",
    "        return len(self.X1)\n",
    "    def __getitem__(self,idx):\n",
    "        return self.X1[idx],self.X2[idx],self.Y[idx]\n",
    "\n",
    "x1 = torch.tensor([3,4,5,6,2])\n",
    "x2 = torch.tensor([8,5,7,3,1])\n",
    "y = torch.tensor([-3.5,3.5,2.5,11.5,5.7])\n",
    "dataset = MyDataset(x1,x2,y)\n",
    "data_loader = DataLoader(dataset,batch_size=2,shuffle=True)\n",
    "\n",
    "for data in iter(data_loader):\n",
    "    print(data)\n",
    "\n",
    "class RegressionModel(torch.nn.Module):\n",
    "    def __init__(self):\n",
    "        super().__init__()\n",
    "        self.w1 = torch.nn.Parameter(torch.rand([1],requires_grad = True))\n",
    "        self.w2 = torch.nn.Parameter(torch.rand([1],requires_grad = True))\n",
    "        self.b = torch.nn.Parameter(torch.rand([1],requires_grad = True))\n",
    "    def forward(self,x1,x2):\n",
    "        return self.w1*x1 + self.w2*x2 + self.b\n",
    "\n",
    "loss_fn = torch.nn.MSELoss()\n",
    "model = RegressionModel()\n",
    "optimizer = torch.optim.SGD(model.parameters(),lr = 0.001)\n",
    "\n",
    "for epochs in range(100):\n",
    "    loss = 0.0\n",
    "    for i,data in enumerate(data_loader):\n",
    "        x1,x2,labels = data\n",
    "        optimizer.zero_grad()\n",
    "        outputs = model(x1,x2)\n",
    "        loss = loss_fn(outputs,labels)\n",
    "        loss.backward()\n",
    "        optimizer.step()\n",
    "    loss += loss.item()\n",
    "\n",
    "    if epochs%10==0:\n",
    "        print(\"After {} epochs, The parameters are w={},b={}, and loss ={}\".format(epochs, model.w1,model.w2,model.b,loss.item()))\n",
    "\n",
    "    finalloss = loss/len(data_loader)*4\n",
    "\n",
    "print(finalloss)"
   ]
  },
  {
   "cell_type": "code",
   "execution_count": 57,
   "id": "4d876b80-2010-45a4-85ca-f7f364ede295",
   "metadata": {},
   "outputs": [
    {
     "name": "stdout",
     "output_type": "stream",
     "text": [
      "After 0 epochs, The parameters are w=Parameter containing:\n",
      "tensor([0.3910], requires_grad=True),b=Parameter containing:\n",
      "tensor([0.9222], requires_grad=True), and loss =0.0\n",
      "After 10 epochs, The parameters are w=Parameter containing:\n",
      "tensor([0.0302], requires_grad=True),b=Parameter containing:\n",
      "tensor([0.8809], requires_grad=True), and loss =0.05120357125997543\n",
      "After 20 epochs, The parameters are w=Parameter containing:\n",
      "tensor([0.0307], requires_grad=True),b=Parameter containing:\n",
      "tensor([0.8503], requires_grad=True), and loss =0.05046183615922928\n",
      "After 30 epochs, The parameters are w=Parameter containing:\n",
      "tensor([0.0311], requires_grad=True),b=Parameter containing:\n",
      "tensor([0.8200], requires_grad=True), and loss =0.04967478662729263\n",
      "After 40 epochs, The parameters are w=Parameter containing:\n",
      "tensor([0.0315], requires_grad=True),b=Parameter containing:\n",
      "tensor([0.7899], requires_grad=True), and loss =0.048899900168180466\n",
      "After 50 epochs, The parameters are w=Parameter containing:\n",
      "tensor([0.0319], requires_grad=True),b=Parameter containing:\n",
      "tensor([0.7600], requires_grad=True), and loss =0.04813666641712189\n",
      "After 60 epochs, The parameters are w=Parameter containing:\n",
      "tensor([0.0323], requires_grad=True),b=Parameter containing:\n",
      "tensor([0.7303], requires_grad=True), and loss =0.04738544672727585\n",
      "After 70 epochs, The parameters are w=Parameter containing:\n",
      "tensor([0.0328], requires_grad=True),b=Parameter containing:\n",
      "tensor([0.7008], requires_grad=True), and loss =0.04664561152458191\n",
      "After 80 epochs, The parameters are w=Parameter containing:\n",
      "tensor([0.0332], requires_grad=True),b=Parameter containing:\n",
      "tensor([0.6715], requires_grad=True), and loss =0.04591751471161842\n",
      "After 90 epochs, The parameters are w=Parameter containing:\n",
      "tensor([0.0336], requires_grad=True),b=Parameter containing:\n",
      "tensor([0.6425], requires_grad=True), and loss =0.0452006570994854\n",
      "tensor(0.0198, grad_fn=<MulBackward0>)\n"
     ]
    }
   ],
   "source": [
    "import torch\n",
    "from torch.utils.data import Dataset,DataLoader\n",
    "\n",
    "class MyDataset(Dataset):\n",
    "    def __init__(self,X,Y):\n",
    "        self.X = X\n",
    "        self.Y = Y\n",
    "    def __len__(self):\n",
    "        return len(self.X)\n",
    "    def __getitem__(self,idx):\n",
    "        return self.X[idx],self.Y[idx]\n",
    "\n",
    "x = torch.tensor([1,5,10,10,25,50,70,75,100])\n",
    "y = torch.tensor([0,0,0,0,0,1,1,1,1])\n",
    "dataset = MyDataset(x,y)\n",
    "data_loader = DataLoader(dataset,batch_size=1,shuffle=False)\n",
    "\n",
    "class RegressionModel(torch.nn.Module):\n",
    "    def __init__(self):\n",
    "        super().__init__()\n",
    "        self.w = torch.nn.Parameter(torch.rand([1],requires_grad = True))\n",
    "        self.b = torch.nn.Parameter(torch.rand([1],requires_grad = True))\n",
    "    def forward(self,x):\n",
    "        return self.w*x + self.b\n",
    "\n",
    "loss_fn = torch.nn.BCELoss()\n",
    "model = RegressionModel()\n",
    "optimizer = torch.optim.SGD(model.parameters(),lr = 0.001)\n",
    "\n",
    "for epochs in range(100):\n",
    "    loss = 0.0\n",
    "    for i,data in enumerate(data_loader):\n",
    "        inputs,labels = data\n",
    "        optimizer.zero_grad()\n",
    "        outputs = model(inputs)\n",
    "        sigmoid = torch.nn.Sigmoid()\n",
    "        outputs = sigmoid(outputs)\n",
    "        labels = labels.to(torch.float32)\n",
    "        loss = loss_fn(outputs,labels)\n",
    "        loss.backward()\n",
    "        optimizer.step()\n",
    "        loss += loss.item()\n",
    "\n",
    "    if epochs%10==0:\n",
    "        print(\"After {} epochs, The parameters are w={},b={}, and loss ={}\".format(epochs, model.w,model.b,loss.item()))\n",
    "\n",
    "    finalloss = loss/len(data_loader)*4\n",
    "\n",
    "print(finalloss)"
   ]
  },
  {
   "cell_type": "code",
   "execution_count": null,
   "id": "2c7840be-0bab-4856-ac89-0d93bdcf1d60",
   "metadata": {},
   "outputs": [],
   "source": []
  }
 ],
 "metadata": {
  "kernelspec": {
   "display_name": "Python 3 (ipykernel)",
   "language": "python",
   "name": "python3"
  },
  "language_info": {
   "codemirror_mode": {
    "name": "ipython",
    "version": 3
   },
   "file_extension": ".py",
   "mimetype": "text/x-python",
   "name": "python",
   "nbconvert_exporter": "python",
   "pygments_lexer": "ipython3",
   "version": "3.11.7"
  }
 },
 "nbformat": 4,
 "nbformat_minor": 5
}
