{
 "cells": [
  {
   "cell_type": "code",
   "execution_count": 1,
   "id": "7816ba8c-302c-4dbc-91ee-e02316d31e75",
   "metadata": {},
   "outputs": [],
   "source": [
    "import torch"
   ]
  },
  {
   "cell_type": "markdown",
   "id": "99056b3f-ac19-4ae1-aae2-6626f2986128",
   "metadata": {},
   "source": [
    "## 1"
   ]
  },
  {
   "cell_type": "code",
   "execution_count": 54,
   "id": "a1aebc77-9430-4242-bb4e-57bedf4cedda",
   "metadata": {},
   "outputs": [
    {
     "name": "stdout",
     "output_type": "stream",
     "text": [
      "tensor(34.)\n",
      "tensor(34., grad_fn=<AddBackward0>)\n"
     ]
    }
   ],
   "source": [
    "a = torch.tensor(1.0, requires_grad = True)\n",
    "b = torch.tensor(4.0, requires_grad = True)\n",
    "\n",
    "x = 2*a + 3*b\n",
    "y = 5*a**2 + 3*b**3\n",
    "z = 2*x + 3*y\n",
    "\n",
    "z.backward()\n",
    "\n",
    "print(a.grad)\n",
    "\n",
    "# Analytical\n",
    "dzx = 2\n",
    "dxa = 2\n",
    "dzy = 3\n",
    "dya = 10*a\n",
    "dza = dzx*dxa + dzy*dya\n",
    "print(dza)"
   ]
  },
  {
   "cell_type": "markdown",
   "id": "33a85eb6-87fa-4bcb-b722-e652124c25b2",
   "metadata": {},
   "source": [
    "## 2"
   ]
  },
  {
   "cell_type": "code",
   "execution_count": 96,
   "id": "5ef8cdc7-159c-4b6b-a5b9-24e3be901df8",
   "metadata": {},
   "outputs": [
    {
     "name": "stdout",
     "output_type": "stream",
     "text": [
      "tensor([-0.])\n",
      "tensor([-0.], grad_fn=<MulBackward0>)\n"
     ]
    }
   ],
   "source": [
    "x = torch.tensor([-4.0], requires_grad = True)\n",
    "w = torch.tensor([2.0], requires_grad = True)\n",
    "b = torch.tensor([-8.0], requires_grad = True)\n",
    "\n",
    "\n",
    "u = w*x\n",
    "\n",
    "v = u+b\n",
    "\n",
    "\n",
    "a = v if v>0 else v*0\n",
    "\n",
    "a.backward()\n",
    "\n",
    "print(w.grad)\n",
    "\n",
    "# Analytical\n",
    "dav = 1 if a>0 else 0.0\n",
    "dvu = 1\n",
    "duw = x\n",
    "dw = dav*dvu*duw\n",
    "print(dw)"
   ]
  },
  {
   "cell_type": "markdown",
   "id": "91135444-424e-458a-86de-46348ff87e27",
   "metadata": {},
   "source": [
    "## 3"
   ]
  },
  {
   "cell_type": "code",
   "execution_count": 181,
   "id": "ca09ea8b-b3e6-4187-8b29-8a880cc1b308",
   "metadata": {},
   "outputs": [
    {
     "name": "stdout",
     "output_type": "stream",
     "text": [
      "tensor([3.7430e-13])\n",
      "tensor([3.7430e-13], grad_fn=<MulBackward0>)\n"
     ]
    }
   ],
   "source": [
    "x = torch.tensor([4.0], requires_grad = True)\n",
    "w = torch.tensor([7.0], requires_grad = True)\n",
    "b = torch.tensor([2.0], requires_grad = True)\n",
    "\n",
    "\n",
    "u = w*x\n",
    "\n",
    "v = u+b\n",
    "\n",
    "t1 = -v\n",
    "t2 = torch.exp(t1)\n",
    "t3 = 1+t2\n",
    "a = 1.0/t3\n",
    "\n",
    "\n",
    "a.backward()\n",
    "\n",
    "print(w.grad)\n",
    "\n",
    "# Analytical\n",
    "da3 = -1.0/(t3**2)\n",
    "da2 = da3*1\n",
    "da1 = da2*torch.exp(t1)\n",
    "da = da1*-1\n",
    "\n",
    "\n",
    "print(da*x)"
   ]
  },
  {
   "cell_type": "markdown",
   "id": "6fe1606d-4220-4660-9a3e-7a15eb726a59",
   "metadata": {},
   "source": [
    "\n",
    "### 4"
   ]
  },
  {
   "cell_type": "code",
   "execution_count": 180,
   "id": "5aef5198-e6b0-481b-9400-bd2a786f278d",
   "metadata": {},
   "outputs": [
    {
     "name": "stdout",
     "output_type": "stream",
     "text": [
      "tensor([-0.0008])\n",
      "tensor([-0.0008], grad_fn=<MulBackward0>)\n"
     ]
    }
   ],
   "source": [
    "x = torch.tensor([2.0], requires_grad = True)\n",
    "\n",
    "\n",
    "a = -x**2\n",
    "b = -2*x\n",
    "c = -torch.sin(x)\n",
    "d = a+b+c\n",
    "e = torch.exp(d)\n",
    "\n",
    "e.backward()\n",
    "\n",
    "print(x.grad)\n",
    "\n",
    "dax = -2*x\n",
    "dbx = -2\n",
    "dcx = -torch.cos(x)\n",
    "ddx = dax+dbx+dcx\n",
    "dex = e*ddx\n",
    "print(dex)"
   ]
  },
  {
   "cell_type": "markdown",
   "id": "9a8b748d-fbe2-4c20-afcb-66b0d5c4a793",
   "metadata": {},
   "source": [
    "## 5\n"
   ]
  },
  {
   "cell_type": "code",
   "execution_count": 182,
   "id": "dbdce535-fe63-42e2-843d-10063be5d099",
   "metadata": {},
   "outputs": [
    {
     "name": "stdout",
     "output_type": "stream",
     "text": [
      "tensor([326.])\n",
      "tensor([326.], grad_fn=<AddBackward0>)\n"
     ]
    }
   ],
   "source": [
    "x = torch.tensor([2.0], requires_grad = True)\n",
    "a = 6*x\n",
    "b = 7*x**2\n",
    "c = 3*x**3\n",
    "d = 8*x**4\n",
    "y = a+b+c+d+3\n",
    "\n",
    "y.backward()\n",
    "\n",
    "print(x.grad)\n",
    "\n",
    "#Analytical\n",
    "da = 6\n",
    "db = 7*2*x\n",
    "dc = 3*3*x**2\n",
    "dd = 8*4*x**3\n",
    "dy = da+db+dc+dd\n",
    "\n",
    "print(dy)"
   ]
  },
  {
   "cell_type": "markdown",
   "id": "7133eb22-83a8-4c08-a3ec-0c30cba56100",
   "metadata": {},
   "source": [
    "## 6"
   ]
  },
  {
   "cell_type": "code",
   "execution_count": 193,
   "id": "d397ca1d-6df4-4ea2-b243-394a1720c6cd",
   "metadata": {},
   "outputs": [
    {
     "name": "stdout",
     "output_type": "stream",
     "text": [
      "tensor([-0.0102])\n",
      "tensor([-0.0102], grad_fn=<MulBackward0>)\n",
      "tensor([0.0080])\n",
      "1.0\n",
      "0.01702888309955597\n",
      "0.0011158620472997427\n",
      "0.003347586141899228\n",
      "-0.018910957500338554\n",
      "0.003978255204856396\n"
     ]
    }
   ],
   "source": [
    "x = torch.tensor([2.0], requires_grad=True)\n",
    "y = torch.tensor([1.0], requires_grad = True)\n",
    "z = torch.tensor([3.0], requires_grad = True)\n",
    "\n",
    "a = 2*x\n",
    "b = torch.sin(y)\n",
    "c = (a/b)\n",
    "d = z*c\n",
    "e = torch.log(1+d)\n",
    "f = torch.tanh(e)\n",
    "a.retain_grad()\n",
    "b.retain_grad()\n",
    "c.retain_grad()\n",
    "d.retain_grad()\n",
    "e.retain_grad()\n",
    "f.retain_grad()\n",
    "\n",
    "f.backward()\n",
    "\n",
    "print(y.grad)\n",
    "\n",
    "# Analytical\n",
    "dfe = 1-(torch.tanh(e)**2)\n",
    "ded = 1.0/(d+1)\n",
    "ddc = z\n",
    "dcb = -a/(b**2)\n",
    "dby = torch.cos(y)\n",
    "print(dfe*ded*ddc*dcb*dby)\n",
    "\n",
    "print(x.grad)\n",
    "\n",
    "for i in (f,e,d,c,b,a):\n",
    "    print(i.grad.item())"
   ]
  },
  {
   "cell_type": "code",
   "execution_count": null,
   "id": "a72a2cf4-31ab-4a2c-95c3-0561cab28a7c",
   "metadata": {},
   "outputs": [],
   "source": []
  }
 ],
 "metadata": {
  "kernelspec": {
   "display_name": "Python 3 (ipykernel)",
   "language": "python",
   "name": "python3"
  },
  "language_info": {
   "codemirror_mode": {
    "name": "ipython",
    "version": 3
   },
   "file_extension": ".py",
   "mimetype": "text/x-python",
   "name": "python",
   "nbconvert_exporter": "python",
   "pygments_lexer": "ipython3",
   "version": "3.11.7"
  }
 },
 "nbformat": 4,
 "nbformat_minor": 5
}
